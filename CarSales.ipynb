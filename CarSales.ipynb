{
 "cells": [
  {
   "cell_type": "code",
   "execution_count": 1,
   "id": "4c1098eb",
   "metadata": {},
   "outputs": [],
   "source": [
    "import os\n",
    "import numpy as np\n",
    "import pandas as pd\n",
    "import matplotlib.pyplot as plt\n",
    "import seaborn as sns"
   ]
  },
  {
   "cell_type": "code",
   "execution_count": 7,
   "id": "94e4e0f7",
   "metadata": {},
   "outputs": [],
   "source": [
    "os.chdir(r'C:\\Users\\YAMIM\\Desktop\\Projects')"
   ]
  },
  {
   "cell_type": "code",
   "execution_count": 8,
   "id": "8f8e2eb8",
   "metadata": {},
   "outputs": [
    {
     "data": {
      "text/plain": [
       "['car_done.csv', 'LinearRegressionCarSales (2).ipynb']"
      ]
     },
     "execution_count": 8,
     "metadata": {},
     "output_type": "execute_result"
    }
   ],
   "source": [
    "os.listdir()"
   ]
  },
  {
   "cell_type": "code",
   "execution_count": 9,
   "id": "772fa84b",
   "metadata": {},
   "outputs": [],
   "source": [
    "df=pd.read_csv(\"car_done.csv\")"
   ]
  },
  {
   "cell_type": "code",
   "execution_count": 10,
   "id": "7d9a2254",
   "metadata": {},
   "outputs": [
    {
     "data": {
      "text/html": [
       "<div>\n",
       "<style scoped>\n",
       "    .dataframe tbody tr th:only-of-type {\n",
       "        vertical-align: middle;\n",
       "    }\n",
       "\n",
       "    .dataframe tbody tr th {\n",
       "        vertical-align: top;\n",
       "    }\n",
       "\n",
       "    .dataframe thead th {\n",
       "        text-align: right;\n",
       "    }\n",
       "</style>\n",
       "<table border=\"1\" class=\"dataframe\">\n",
       "  <thead>\n",
       "    <tr style=\"text-align: right;\">\n",
       "      <th></th>\n",
       "      <th>Manufacturer</th>\n",
       "      <th>Model</th>\n",
       "      <th>Sales_in_thousands</th>\n",
       "      <th>four_year_resale_value</th>\n",
       "      <th>Vehicle_type</th>\n",
       "      <th>Price_in_thousands</th>\n",
       "      <th>Engine_size</th>\n",
       "      <th>Horsepower</th>\n",
       "      <th>Wheelbase</th>\n",
       "      <th>Width</th>\n",
       "      <th>Length</th>\n",
       "      <th>Curb weight</th>\n",
       "      <th>Fuel_capacity</th>\n",
       "      <th>Fuel_efficiency</th>\n",
       "    </tr>\n",
       "  </thead>\n",
       "  <tbody>\n",
       "    <tr>\n",
       "      <th>0</th>\n",
       "      <td>Acura</td>\n",
       "      <td>Integra</td>\n",
       "      <td>16.919</td>\n",
       "      <td>16.360</td>\n",
       "      <td>Passenger</td>\n",
       "      <td>21.5</td>\n",
       "      <td>1.8</td>\n",
       "      <td>140.0</td>\n",
       "      <td>101.2</td>\n",
       "      <td>67.3</td>\n",
       "      <td>172.4</td>\n",
       "      <td>2.639</td>\n",
       "      <td>13.2</td>\n",
       "      <td>28.0</td>\n",
       "    </tr>\n",
       "    <tr>\n",
       "      <th>1</th>\n",
       "      <td>Acura</td>\n",
       "      <td>TL</td>\n",
       "      <td>39.384</td>\n",
       "      <td>19.875</td>\n",
       "      <td>Passenger</td>\n",
       "      <td>28.4</td>\n",
       "      <td>3.2</td>\n",
       "      <td>225.0</td>\n",
       "      <td>108.1</td>\n",
       "      <td>70.3</td>\n",
       "      <td>192.9</td>\n",
       "      <td>3.517</td>\n",
       "      <td>17.2</td>\n",
       "      <td>25.0</td>\n",
       "    </tr>\n",
       "    <tr>\n",
       "      <th>2</th>\n",
       "      <td>Acura</td>\n",
       "      <td>CL</td>\n",
       "      <td>14.114</td>\n",
       "      <td>18.225</td>\n",
       "      <td>Passenger</td>\n",
       "      <td>NaN</td>\n",
       "      <td>3.2</td>\n",
       "      <td>225.0</td>\n",
       "      <td>106.9</td>\n",
       "      <td>70.6</td>\n",
       "      <td>192.0</td>\n",
       "      <td>3.470</td>\n",
       "      <td>17.2</td>\n",
       "      <td>26.0</td>\n",
       "    </tr>\n",
       "    <tr>\n",
       "      <th>3</th>\n",
       "      <td>Acura</td>\n",
       "      <td>RL</td>\n",
       "      <td>8.588</td>\n",
       "      <td>29.725</td>\n",
       "      <td>Passenger</td>\n",
       "      <td>42.0</td>\n",
       "      <td>3.5</td>\n",
       "      <td>210.0</td>\n",
       "      <td>114.6</td>\n",
       "      <td>71.4</td>\n",
       "      <td>196.6</td>\n",
       "      <td>3.850</td>\n",
       "      <td>18.0</td>\n",
       "      <td>22.0</td>\n",
       "    </tr>\n",
       "  </tbody>\n",
       "</table>\n",
       "</div>"
      ],
      "text/plain": [
       "  Manufacturer    Model  Sales_in_thousands  four_year_resale_value  \\\n",
       "0        Acura  Integra              16.919                  16.360   \n",
       "1        Acura       TL              39.384                  19.875   \n",
       "2        Acura       CL              14.114                  18.225   \n",
       "3        Acura       RL               8.588                  29.725   \n",
       "\n",
       "  Vehicle_type  Price_in_thousands  Engine_size  Horsepower  Wheelbase  Width  \\\n",
       "0    Passenger                21.5          1.8       140.0      101.2   67.3   \n",
       "1    Passenger                28.4          3.2       225.0      108.1   70.3   \n",
       "2    Passenger                 NaN          3.2       225.0      106.9   70.6   \n",
       "3    Passenger                42.0          3.5       210.0      114.6   71.4   \n",
       "\n",
       "   Length  Curb weight  Fuel_capacity  Fuel_efficiency  \n",
       "0   172.4        2.639           13.2             28.0  \n",
       "1   192.9        3.517           17.2             25.0  \n",
       "2   192.0        3.470           17.2             26.0  \n",
       "3   196.6        3.850           18.0             22.0  "
      ]
     },
     "execution_count": 10,
     "metadata": {},
     "output_type": "execute_result"
    }
   ],
   "source": [
    "df.head(4)"
   ]
  },
  {
   "cell_type": "code",
   "execution_count": 11,
   "id": "3ab3eef8",
   "metadata": {},
   "outputs": [
    {
     "data": {
      "text/plain": [
       "(157, 14)"
      ]
     },
     "execution_count": 11,
     "metadata": {},
     "output_type": "execute_result"
    }
   ],
   "source": [
    "# Knowing the shape of data ( dimension of data)\n",
    "df.shape"
   ]
  },
  {
   "cell_type": "markdown",
   "id": "de227963",
   "metadata": {},
   "source": [
    "* There are `157 records / rows` and `14 columns` in my data set\n",
    "--------------------------------------------------------------------------"
   ]
  },
  {
   "cell_type": "code",
   "execution_count": 12,
   "id": "c8340e38",
   "metadata": {},
   "outputs": [
    {
     "name": "stdout",
     "output_type": "stream",
     "text": [
      "<class 'pandas.core.frame.DataFrame'>\n",
      "RangeIndex: 157 entries, 0 to 156\n",
      "Data columns (total 14 columns):\n",
      " #   Column                  Non-Null Count  Dtype  \n",
      "---  ------                  --------------  -----  \n",
      " 0   Manufacturer            157 non-null    object \n",
      " 1   Model                   157 non-null    object \n",
      " 2   Sales_in_thousands      157 non-null    float64\n",
      " 3   four_year_resale_value  121 non-null    float64\n",
      " 4   Vehicle_type            157 non-null    object \n",
      " 5   Price_in_thousands      155 non-null    float64\n",
      " 6   Engine_size             156 non-null    float64\n",
      " 7   Horsepower              156 non-null    float64\n",
      " 8   Wheelbase               156 non-null    float64\n",
      " 9   Width                   156 non-null    float64\n",
      " 10  Length                  156 non-null    float64\n",
      " 11  Curb weight             155 non-null    float64\n",
      " 12  Fuel_capacity           156 non-null    float64\n",
      " 13  Fuel_efficiency         154 non-null    float64\n",
      "dtypes: float64(11), object(3)\n",
      "memory usage: 17.3+ KB\n"
     ]
    }
   ],
   "source": [
    "df.info()"
   ]
  },
  {
   "cell_type": "markdown",
   "id": "598b9bf1",
   "metadata": {},
   "source": [
    "* There are 11 numerical columns and 3 objective/ categorical variable\n",
    "* There are some columns where we can see that there are missing value"
   ]
  },
  {
   "cell_type": "markdown",
   "id": "1398b89e",
   "metadata": {},
   "source": [
    "## EDA : Exploratory Data Analysis "
   ]
  },
  {
   "cell_type": "markdown",
   "id": "dec2a69b",
   "metadata": {},
   "source": [
    "* Univariate \n",
    "    * Study each variable at a time \n",
    "* Bivariate \n",
    "    * Study two variable at a time \n",
    "        1. cat -cat \n",
    "        2. cat- num \n",
    "        3. num- num"
   ]
  },
  {
   "cell_type": "markdown",
   "id": "0295fd17",
   "metadata": {},
   "source": [
    "#### Univariate "
   ]
  },
  {
   "cell_type": "code",
   "execution_count": 13,
   "id": "d4380dd3",
   "metadata": {},
   "outputs": [
    {
     "data": {
      "text/plain": [
       "array(['Acura', 'Audi', 'BMW', 'Buick', 'Cadillac', 'Chevrolet',\n",
       "       'Chrysler', 'Dodge', 'Ford', 'Honda', 'Hyundai', 'Infiniti',\n",
       "       'Jaguar', 'Jeep', 'Lexus', 'Lincoln', 'Mitsubishi', 'Mercury',\n",
       "       'Mercedes-B', 'Nissan', 'Oldsmobile', 'Plymouth', 'Pontiac',\n",
       "       'Porsche', 'Saab', 'Saturn', 'Subaru', 'Toyota', 'Volkswagen',\n",
       "       'Volvo'], dtype=object)"
      ]
     },
     "execution_count": 13,
     "metadata": {},
     "output_type": "execute_result"
    }
   ],
   "source": [
    "# unique categories\n",
    "# freq \n",
    "# freq graph \n",
    "# missing value \n",
    "df[\"Manufacturer\"].unique()"
   ]
  },
  {
   "cell_type": "code",
   "execution_count": 14,
   "id": "f04b78bb",
   "metadata": {},
   "outputs": [
    {
     "data": {
      "text/plain": [
       "Dodge         11\n",
       "Ford          11\n",
       "Toyota         9\n",
       "Chevrolet      9\n",
       "Mercedes-B     9\n",
       "Mitsubishi     7\n",
       "Nissan         7\n",
       "Chrysler       7\n",
       "Volvo          6\n",
       "Oldsmobile     6\n",
       "Lexus          6\n",
       "Mercury        6\n",
       "Pontiac        6\n",
       "Volkswagen     6\n",
       "Saturn         5\n",
       "Cadillac       5\n",
       "Honda          5\n",
       "Plymouth       4\n",
       "Acura          4\n",
       "Buick          4\n",
       "Audi           3\n",
       "Jeep           3\n",
       "Porsche        3\n",
       "Hyundai        3\n",
       "BMW            3\n",
       "Lincoln        3\n",
       "Saab           2\n",
       "Subaru         2\n",
       "Jaguar         1\n",
       "Infiniti       1\n",
       "Name: Manufacturer, dtype: int64"
      ]
     },
     "execution_count": 14,
     "metadata": {},
     "output_type": "execute_result"
    }
   ],
   "source": [
    "df[\"Manufacturer\"].value_counts()"
   ]
  },
  {
   "cell_type": "code",
   "execution_count": 15,
   "id": "57e16b94",
   "metadata": {},
   "outputs": [
    {
     "data": {
      "text/plain": [
       "30"
      ]
     },
     "execution_count": 15,
     "metadata": {},
     "output_type": "execute_result"
    }
   ],
   "source": [
    "df[\"Manufacturer\"].nunique()"
   ]
  },
  {
   "cell_type": "code",
   "execution_count": 16,
   "id": "a63e93d4",
   "metadata": {},
   "outputs": [
    {
     "data": {
      "text/plain": [
       "Dodge         0.070064\n",
       "Ford          0.070064\n",
       "Toyota        0.057325\n",
       "Chevrolet     0.057325\n",
       "Mercedes-B    0.057325\n",
       "Mitsubishi    0.044586\n",
       "Nissan        0.044586\n",
       "Chrysler      0.044586\n",
       "Volvo         0.038217\n",
       "Oldsmobile    0.038217\n",
       "Lexus         0.038217\n",
       "Mercury       0.038217\n",
       "Pontiac       0.038217\n",
       "Volkswagen    0.038217\n",
       "Saturn        0.031847\n",
       "Cadillac      0.031847\n",
       "Honda         0.031847\n",
       "Plymouth      0.025478\n",
       "Acura         0.025478\n",
       "Buick         0.025478\n",
       "Audi          0.019108\n",
       "Jeep          0.019108\n",
       "Porsche       0.019108\n",
       "Hyundai       0.019108\n",
       "BMW           0.019108\n",
       "Lincoln       0.019108\n",
       "Saab          0.012739\n",
       "Subaru        0.012739\n",
       "Jaguar        0.006369\n",
       "Infiniti      0.006369\n",
       "Name: Manufacturer, dtype: float64"
      ]
     },
     "execution_count": 16,
     "metadata": {},
     "output_type": "execute_result"
    }
   ],
   "source": [
    "df[\"Manufacturer\"].value_counts(normalize=True)"
   ]
  },
  {
   "cell_type": "code",
   "execution_count": 17,
   "id": "62d7946f",
   "metadata": {},
   "outputs": [
    {
     "data": {
      "text/plain": [
       "0"
      ]
     },
     "execution_count": 17,
     "metadata": {},
     "output_type": "execute_result"
    }
   ],
   "source": [
    "df[\"Manufacturer\"].isnull().sum()"
   ]
  },
  {
   "cell_type": "markdown",
   "id": "9cecc36f",
   "metadata": {},
   "source": [
    "* There are 30 unique Manufacturer \n",
    "* Dodge and Ford are having highest freq\n",
    "* Jaguar and Infiniti are having least freq\n",
    "* No missing value found "
   ]
  },
  {
   "cell_type": "code",
   "execution_count": 18,
   "id": "cae74064",
   "metadata": {},
   "outputs": [],
   "source": [
    "def univariate_cat(x):\n",
    "    missing=x.isnull().sum()\n",
    "    unique_cnt=x.nunique()\n",
    "    unique_cat=list(x.unique())\n",
    "    print(f\"Total missing values : {missing}\\n\")\n",
    "    print(f\"Total count of unique categories: {unique_cnt}\\n\")\n",
    "    print(f\"Unique categories :\\n{unique_cat}\")"
   ]
  },
  {
   "cell_type": "code",
   "execution_count": 19,
   "id": "7005d88c",
   "metadata": {},
   "outputs": [
    {
     "name": "stdout",
     "output_type": "stream",
     "text": [
      "Total missing values : 0\n",
      "\n",
      "Total count of unique categories: 30\n",
      "\n",
      "Unique categories :\n",
      "['Acura', 'Audi', 'BMW', 'Buick', 'Cadillac', 'Chevrolet', 'Chrysler', 'Dodge', 'Ford', 'Honda', 'Hyundai', 'Infiniti', 'Jaguar', 'Jeep', 'Lexus', 'Lincoln', 'Mitsubishi', 'Mercury', 'Mercedes-B', 'Nissan', 'Oldsmobile', 'Plymouth', 'Pontiac', 'Porsche', 'Saab', 'Saturn', 'Subaru', 'Toyota', 'Volkswagen', 'Volvo']\n"
     ]
    }
   ],
   "source": [
    "univariate_cat(df[\"Manufacturer\"])"
   ]
  },
  {
   "cell_type": "code",
   "execution_count": 20,
   "id": "75ec489a",
   "metadata": {},
   "outputs": [
    {
     "name": "stdout",
     "output_type": "stream",
     "text": [
      "Total missing values : 0\n",
      "\n",
      "Total count of unique categories: 156\n",
      "\n",
      "Unique categories :\n",
      "['Integra', 'TL', 'CL', 'RL', 'A4', 'A6', 'A8', '323i', '328i', '528i', 'Century', 'Regal', 'Park Avenue', 'LeSabre', 'DeVille', 'Seville', 'Eldorado', 'Catera', 'Escalade', 'Cavalier', 'Malibu', 'Lumina', 'Monte Carlo', 'Camaro', 'Corvette', 'Prizm', 'Metro', 'Impala', 'Sebring Coupe', 'Sebring Conv.', 'Concorde', 'Cirrus', 'LHS', 'Town & Country', '300M', 'Neon', 'Avenger', 'Stratus', 'Intrepid', 'Viper', 'Ram Pickup', 'Ram Wagon', 'Ram Van', 'Dakota', 'Durango', 'Caravan', 'Escort', 'Mustang', 'Contour', 'Taurus', 'Focus', 'Crown Victoria', 'Explorer', 'Windstar', 'Expedition', 'Ranger', 'F-Series', 'Civic', 'Accord', 'CR-V', 'Passport', 'Odyssey', 'Accent', 'Elantra', 'Sonata', 'I30', 'S-Type', 'Wrangler', 'Cherokee', 'Grand Cherokee', 'ES300', 'GS300', 'GS400', 'LS400', 'LX470', 'RX300', 'Continental', 'Town car', 'Navigator', 'Mirage', 'Eclipse', 'Galant', 'Diamante', '3000GT', 'Montero', 'Montero Sport', 'Mystique', 'Cougar', 'Sable', 'Grand Marquis', 'Mountaineer', 'Villager', 'C-Class', 'E-Class', 'S-Class', 'SL-Class', 'SLK', 'SLK230', 'CLK Coupe', 'CL500', 'M-Class', 'Sentra', 'Altima', 'Maxima', 'Quest', 'Pathfinder', 'Xterra', 'Frontier', 'Cutlass', 'Intrigue', 'Alero', 'Aurora', 'Bravada', 'Silhouette', 'Breeze', 'Voyager', 'Prowler', 'Sunfire', 'Grand Am', 'Firebird', 'Grand Prix', 'Bonneville', 'Montana', 'Boxter', 'Carrera Coupe', 'Carrera Cabrio', '05-Sep', '03-Sep', 'SL', 'SC', 'SW', 'LW', 'LS', 'Outback', 'Forester', 'Corolla', 'Camry', 'Avalon', 'Celica', 'Tacoma', 'Sienna', 'RAV4', '4Runner', 'Land Cruiser', 'Golf', 'Jetta', 'Passat', 'Cabrio', 'GTI', 'Beetle', 'S40', 'V40', 'S70', 'V70', 'C70', 'S80']\n"
     ]
    }
   ],
   "source": [
    "univariate_cat(df[\"Model\"])"
   ]
  },
  {
   "cell_type": "code",
   "execution_count": 21,
   "id": "71cbd345",
   "metadata": {},
   "outputs": [
    {
     "data": {
      "text/plain": [
       "Neon          2\n",
       "Integra       1\n",
       "Cutlass       1\n",
       "Sentra        1\n",
       "Altima        1\n",
       "             ..\n",
       "Windstar      1\n",
       "Expedition    1\n",
       "Ranger        1\n",
       "F-Series      1\n",
       "S80           1\n",
       "Name: Model, Length: 156, dtype: int64"
      ]
     },
     "execution_count": 21,
     "metadata": {},
     "output_type": "execute_result"
    }
   ],
   "source": [
    "df[\"Model\"].value_counts()"
   ]
  },
  {
   "cell_type": "markdown",
   "id": "16f7b27f",
   "metadata": {},
   "source": [
    "* No missing value\n",
    "* Total unique cat are 156 \n"
   ]
  },
  {
   "cell_type": "code",
   "execution_count": 22,
   "id": "302a4404",
   "metadata": {},
   "outputs": [
    {
     "data": {
      "text/plain": [
       "Index(['Manufacturer', 'Model', 'Vehicle_type'], dtype='object')"
      ]
     },
     "execution_count": 22,
     "metadata": {},
     "output_type": "execute_result"
    }
   ],
   "source": [
    "df.dtypes[df.dtypes==\"object\"].index"
   ]
  },
  {
   "cell_type": "code",
   "execution_count": 23,
   "id": "acad17a8",
   "metadata": {},
   "outputs": [
    {
     "name": "stdout",
     "output_type": "stream",
     "text": [
      "Total missing values : 0\n",
      "\n",
      "Total count of unique categories: 2\n",
      "\n",
      "Unique categories :\n",
      "['Passenger', 'Car']\n"
     ]
    }
   ],
   "source": [
    "univariate_cat(df[\"Vehicle_type\"])"
   ]
  },
  {
   "cell_type": "code",
   "execution_count": 24,
   "id": "e5e39370",
   "metadata": {},
   "outputs": [
    {
     "data": {
      "text/plain": [
       "Passenger    116\n",
       "Car           41\n",
       "Name: Vehicle_type, dtype: int64"
      ]
     },
     "execution_count": 24,
     "metadata": {},
     "output_type": "execute_result"
    }
   ],
   "source": [
    "df[\"Vehicle_type\"].value_counts()"
   ]
  },
  {
   "cell_type": "markdown",
   "id": "1ef8c9e0",
   "metadata": {},
   "source": [
    "* No missing value\n",
    "* Only Two categories [ Car and Passenger]\n",
    "* Passengers are being sold maximum time "
   ]
  },
  {
   "cell_type": "markdown",
   "id": "7c3aabf6",
   "metadata": {},
   "source": [
    "#### Numerical Variable"
   ]
  },
  {
   "cell_type": "code",
   "execution_count": 25,
   "id": "ef0dfc8c",
   "metadata": {},
   "outputs": [],
   "source": [
    "def univariate_num(x):\n",
    "    missing=x.isnull().sum()\n",
    "    min1=round(x.min(), 2)\n",
    "    max1=round(x.max(), 2)\n",
    "    mean=round(x.mean(), 2)\n",
    "    var=round(x.var(), 2)\n",
    "    std=round(x.std(),2)\n",
    "    range1=round(max1-min1, 2)\n",
    "    q1=round(x.quantile(.25), 2)\n",
    "    q2=round(x.quantile(.5),2)\n",
    "    q3=round(x.quantile(.75), 2)\n",
    "    skew=round( x.skew(), 2)\n",
    "    kurt=round(x.kurt(), 2)\n",
    "    myvalue={\"missing\":missing, \"min\":min1, \"max\":max1, \"mean\":mean,\n",
    "             \"var\":var,\"std\":std, \"range\":range1,\"q1\":q1, \"q2\":q2,\"q3\":q3,\n",
    "            \"skewness\":skew, \"kurtosis\":kurt}\n",
    "    sns.histplot(x)\n",
    "    plt.show()\n",
    "    sns.boxplot(data=df, y=x)\n",
    "    plt.show()\n",
    "    return myvalue"
   ]
  },
  {
   "cell_type": "code",
   "execution_count": 26,
   "id": "06755bf4",
   "metadata": {},
   "outputs": [
    {
     "data": {
      "image/png": "[encoded data removed]",
      "text/plain": [
       "<Figure size 432x288 with 1 Axes>"
      ]
     },
     "metadata": {
      "needs_background": "light"
     },
     "output_type": "display_data"
    },
    {
     "data": {
      "image/png": "[encoded data removed]",
      "text/plain": [
       "<Figure size 432x288 with 1 Axes>"
      ]
     },
     "metadata": {
      "needs_background": "light"
     },
     "output_type": "display_data"
    },
    {
     "data": {
      "text/plain": [
       "{'missing': 0,\n",
       " 'min': 0.11,\n",
       " 'max': 540.56,\n",
       " 'mean': 53.0,\n",
       " 'var': 4628.0,\n",
       " 'std': 68.03,\n",
       " 'range': 540.45,\n",
       " 'q1': 14.11,\n",
       " 'q2': 29.45,\n",
       " 'q3': 67.96,\n",
       " 'skewness': 3.41,\n",
       " 'kurtosis': 17.56}"
      ]
     },
     "execution_count": 26,
     "metadata": {},
     "output_type": "execute_result"
    }
   ],
   "source": [
    "univariate_num(df[\"Sales_in_thousands\"])"
   ]
  },
  {
   "cell_type": "code",
   "execution_count": 27,
   "id": "f1d9ff1e",
   "metadata": {},
   "outputs": [
    {
     "data": {
      "text/plain": [
       "110.0"
      ]
     },
     "execution_count": 27,
     "metadata": {},
     "output_type": "execute_result"
    }
   ],
   "source": [
    "0.11*1000"
   ]
  },
  {
   "cell_type": "code",
   "execution_count": 28,
   "id": "fb8e73cb",
   "metadata": {},
   "outputs": [
    {
     "data": {
      "text/plain": [
       "540560.0"
      ]
     },
     "execution_count": 28,
     "metadata": {},
     "output_type": "execute_result"
    }
   ],
   "source": [
    "540.56*1000"
   ]
  },
  {
   "cell_type": "code",
   "execution_count": 29,
   "id": "38cac693",
   "metadata": {},
   "outputs": [
    {
     "data": {
      "text/html": [
       "<div>\n",
       "<style scoped>\n",
       "    .dataframe tbody tr th:only-of-type {\n",
       "        vertical-align: middle;\n",
       "    }\n",
       "\n",
       "    .dataframe tbody tr th {\n",
       "        vertical-align: top;\n",
       "    }\n",
       "\n",
       "    .dataframe thead th {\n",
       "        text-align: right;\n",
       "    }\n",
       "</style>\n",
       "<table border=\"1\" class=\"dataframe\">\n",
       "  <thead>\n",
       "    <tr style=\"text-align: right;\">\n",
       "      <th></th>\n",
       "      <th>Manufacturer</th>\n",
       "      <th>Model</th>\n",
       "      <th>Sales_in_thousands</th>\n",
       "      <th>four_year_resale_value</th>\n",
       "      <th>Vehicle_type</th>\n",
       "      <th>Price_in_thousands</th>\n",
       "      <th>Engine_size</th>\n",
       "      <th>Horsepower</th>\n",
       "      <th>Wheelbase</th>\n",
       "      <th>Width</th>\n",
       "      <th>Length</th>\n",
       "      <th>Curb weight</th>\n",
       "      <th>Fuel_capacity</th>\n",
       "      <th>Fuel_efficiency</th>\n",
       "    </tr>\n",
       "  </thead>\n",
       "  <tbody>\n",
       "    <tr>\n",
       "      <th>83</th>\n",
       "      <td>Mitsubishi</td>\n",
       "      <td>3000GT</td>\n",
       "      <td>0.11</td>\n",
       "      <td>20.94</td>\n",
       "      <td>Passenger</td>\n",
       "      <td>25.45</td>\n",
       "      <td>3.0</td>\n",
       "      <td>161.0</td>\n",
       "      <td>97.2</td>\n",
       "      <td>72.4</td>\n",
       "      <td>180.3</td>\n",
       "      <td>3.131</td>\n",
       "      <td>19.8</td>\n",
       "      <td>21.0</td>\n",
       "    </tr>\n",
       "  </tbody>\n",
       "</table>\n",
       "</div>"
      ],
      "text/plain": [
       "   Manufacturer   Model  Sales_in_thousands  four_year_resale_value  \\\n",
       "83   Mitsubishi  3000GT                0.11                   20.94   \n",
       "\n",
       "   Vehicle_type  Price_in_thousands  Engine_size  Horsepower  Wheelbase  \\\n",
       "83    Passenger               25.45          3.0       161.0       97.2   \n",
       "\n",
       "    Width  Length  Curb weight  Fuel_capacity  Fuel_efficiency  \n",
       "83   72.4   180.3        3.131           19.8             21.0  "
      ]
     },
     "execution_count": 29,
     "metadata": {},
     "output_type": "execute_result"
    }
   ],
   "source": [
    "df[df[\"Sales_in_thousands\"]==.11]"
   ]
  },
  {
   "cell_type": "code",
   "execution_count": 30,
   "id": "c630881f",
   "metadata": {},
   "outputs": [
    {
     "data": {
      "text/html": [
       "<div>\n",
       "<style scoped>\n",
       "    .dataframe tbody tr th:only-of-type {\n",
       "        vertical-align: middle;\n",
       "    }\n",
       "\n",
       "    .dataframe tbody tr th {\n",
       "        vertical-align: top;\n",
       "    }\n",
       "\n",
       "    .dataframe thead th {\n",
       "        text-align: right;\n",
       "    }\n",
       "</style>\n",
       "<table border=\"1\" class=\"dataframe\">\n",
       "  <thead>\n",
       "    <tr style=\"text-align: right;\">\n",
       "      <th></th>\n",
       "      <th>Manufacturer</th>\n",
       "      <th>Model</th>\n",
       "      <th>Sales_in_thousands</th>\n",
       "      <th>four_year_resale_value</th>\n",
       "      <th>Vehicle_type</th>\n",
       "      <th>Price_in_thousands</th>\n",
       "      <th>Engine_size</th>\n",
       "      <th>Horsepower</th>\n",
       "      <th>Wheelbase</th>\n",
       "      <th>Width</th>\n",
       "      <th>Length</th>\n",
       "      <th>Curb weight</th>\n",
       "      <th>Fuel_capacity</th>\n",
       "      <th>Fuel_efficiency</th>\n",
       "    </tr>\n",
       "  </thead>\n",
       "  <tbody>\n",
       "    <tr>\n",
       "      <th>56</th>\n",
       "      <td>Ford</td>\n",
       "      <td>F-Series</td>\n",
       "      <td>540.561</td>\n",
       "      <td>15.075</td>\n",
       "      <td>Car</td>\n",
       "      <td>26.935</td>\n",
       "      <td>4.6</td>\n",
       "      <td>220.0</td>\n",
       "      <td>138.5</td>\n",
       "      <td>79.1</td>\n",
       "      <td>224.5</td>\n",
       "      <td>4.241</td>\n",
       "      <td>25.1</td>\n",
       "      <td>18.0</td>\n",
       "    </tr>\n",
       "  </tbody>\n",
       "</table>\n",
       "</div>"
      ],
      "text/plain": [
       "   Manufacturer     Model  Sales_in_thousands  four_year_resale_value  \\\n",
       "56         Ford  F-Series             540.561                  15.075   \n",
       "\n",
       "   Vehicle_type  Price_in_thousands  Engine_size  Horsepower  Wheelbase  \\\n",
       "56          Car              26.935          4.6       220.0      138.5   \n",
       "\n",
       "    Width  Length  Curb weight  Fuel_capacity  Fuel_efficiency  \n",
       "56   79.1   224.5        4.241           25.1             18.0  "
      ]
     },
     "execution_count": 30,
     "metadata": {},
     "output_type": "execute_result"
    }
   ],
   "source": [
    "df[df[\"Sales_in_thousands\"]>=540.56]"
   ]
  },
  {
   "cell_type": "markdown",
   "id": "66b0c162",
   "metadata": {},
   "source": [
    "* There are outlier in data \n",
    "* No missing values\n",
    "* Data is positive skewed "
   ]
  },
  {
   "cell_type": "code",
   "execution_count": 31,
   "id": "a11c9c57",
   "metadata": {},
   "outputs": [
    {
     "data": {
      "image/png": "[encoded data removed]",
      "text/plain": [
       "<Figure size 432x288 with 1 Axes>"
      ]
     },
     "metadata": {
      "needs_background": "light"
     },
     "output_type": "display_data"
    },
    {
     "data": {
      "image/png": "[encoded data removed]",
      "text/plain": [
       "<Figure size 432x288 with 1 Axes>"
      ]
     },
     "metadata": {
      "needs_background": "light"
     },
     "output_type": "display_data"
    },
    {
     "data": {
      "text/plain": [
       "{'missing': 2,\n",
       " 'min': 9.23,\n",
       " 'max': 85.5,\n",
       " 'mean': 27.39,\n",
       " 'var': 205.97,\n",
       " 'std': 14.35,\n",
       " 'range': 76.27,\n",
       " 'q1': 18.02,\n",
       " 'q2': 22.8,\n",
       " 'q3': 31.95,\n",
       " 'skewness': 1.77,\n",
       " 'kurtosis': 3.63}"
      ]
     },
     "execution_count": 31,
     "metadata": {},
     "output_type": "execute_result"
    }
   ],
   "source": [
    "univariate_num(df[\"Price_in_thousands\"])"
   ]
  },
  {
   "cell_type": "code",
   "execution_count": 32,
   "id": "5349f374",
   "metadata": {},
   "outputs": [
    {
     "data": {
      "image/png": "[encoded data removed]",
      "text/plain": [
       "<Figure size 432x288 with 1 Axes>"
      ]
     },
     "metadata": {
      "needs_background": "light"
     },
     "output_type": "display_data"
    },
    {
     "data": {
      "image/png": "[encoded data removed]",
      "text/plain": [
       "<Figure size 432x288 with 1 Axes>"
      ]
     },
     "metadata": {
      "needs_background": "light"
     },
     "output_type": "display_data"
    },
    {
     "data": {
      "text/plain": [
       "{'missing': 1,\n",
       " 'min': 55.0,\n",
       " 'max': 450.0,\n",
       " 'mean': 185.95,\n",
       " 'var': 3214.93,\n",
       " 'std': 56.7,\n",
       " 'range': 395.0,\n",
       " 'q1': 149.5,\n",
       " 'q2': 177.5,\n",
       " 'q3': 215.0,\n",
       " 'skewness': 1.0,\n",
       " 'kurtosis': 2.41}"
      ]
     },
     "execution_count": 32,
     "metadata": {},
     "output_type": "execute_result"
    }
   ],
   "source": [
    "univariate_num(df[\"Horsepower\"])"
   ]
  },
  {
   "cell_type": "code",
   "execution_count": 33,
   "id": "35b3c921",
   "metadata": {},
   "outputs": [
    {
     "data": {
      "text/plain": [
       "450.0"
      ]
     },
     "execution_count": 33,
     "metadata": {},
     "output_type": "execute_result"
    }
   ],
   "source": [
    "df[\"Horsepower\"].max()"
   ]
  },
  {
   "cell_type": "markdown",
   "id": "0c8fba97",
   "metadata": {},
   "source": [
    "### Bivariate Analysis "
   ]
  },
  {
   "cell_type": "markdown",
   "id": "942f3bec",
   "metadata": {},
   "source": [
    "* cat-cat \n",
    "* cat-num/ num-cat\n",
    "* num - num"
   ]
  },
  {
   "cell_type": "code",
   "execution_count": 34,
   "id": "cbcb2c9f",
   "metadata": {},
   "outputs": [
    {
     "data": {
      "text/html": [
       "<div>\n",
       "<style scoped>\n",
       "    .dataframe tbody tr th:only-of-type {\n",
       "        vertical-align: middle;\n",
       "    }\n",
       "\n",
       "    .dataframe tbody tr th {\n",
       "        vertical-align: top;\n",
       "    }\n",
       "\n",
       "    .dataframe thead th {\n",
       "        text-align: right;\n",
       "    }\n",
       "</style>\n",
       "<table border=\"1\" class=\"dataframe\">\n",
       "  <thead>\n",
       "    <tr style=\"text-align: right;\">\n",
       "      <th>Model</th>\n",
       "      <th>03-Sep</th>\n",
       "      <th>05-Sep</th>\n",
       "      <th>3000GT</th>\n",
       "      <th>300M</th>\n",
       "      <th>323i</th>\n",
       "      <th>328i</th>\n",
       "      <th>4Runner</th>\n",
       "      <th>528i</th>\n",
       "      <th>A4</th>\n",
       "      <th>A6</th>\n",
       "      <th>...</th>\n",
       "      <th>Town &amp; Country</th>\n",
       "      <th>Town car</th>\n",
       "      <th>V40</th>\n",
       "      <th>V70</th>\n",
       "      <th>Villager</th>\n",
       "      <th>Viper</th>\n",
       "      <th>Voyager</th>\n",
       "      <th>Windstar</th>\n",
       "      <th>Wrangler</th>\n",
       "      <th>Xterra</th>\n",
       "    </tr>\n",
       "    <tr>\n",
       "      <th>Manufacturer</th>\n",
       "      <th></th>\n",
       "      <th></th>\n",
       "      <th></th>\n",
       "      <th></th>\n",
       "      <th></th>\n",
       "      <th></th>\n",
       "      <th></th>\n",
       "      <th></th>\n",
       "      <th></th>\n",
       "      <th></th>\n",
       "      <th></th>\n",
       "      <th></th>\n",
       "      <th></th>\n",
       "      <th></th>\n",
       "      <th></th>\n",
       "      <th></th>\n",
       "      <th></th>\n",
       "      <th></th>\n",
       "      <th></th>\n",
       "      <th></th>\n",
       "      <th></th>\n",
       "    </tr>\n",
       "  </thead>\n",
       "  <tbody>\n",
       "    <tr>\n",
       "      <th>Acura</th>\n",
       "      <td>0</td>\n",
       "      <td>0</td>\n",
       "      <td>0</td>\n",
       "      <td>0</td>\n",
       "      <td>0</td>\n",
       "      <td>0</td>\n",
       "      <td>0</td>\n",
       "      <td>0</td>\n",
       "      <td>0</td>\n",
       "      <td>0</td>\n",
       "      <td>...</td>\n",
       "      <td>0</td>\n",
       "      <td>0</td>\n",
       "      <td>0</td>\n",
       "      <td>0</td>\n",
       "      <td>0</td>\n",
       "      <td>0</td>\n",
       "      <td>0</td>\n",
       "      <td>0</td>\n",
       "      <td>0</td>\n",
       "      <td>0</td>\n",
       "    </tr>\n",
       "    <tr>\n",
       "      <th>Audi</th>\n",
       "      <td>0</td>\n",
       "      <td>0</td>\n",
       "      <td>0</td>\n",
       "      <td>0</td>\n",
       "      <td>0</td>\n",
       "      <td>0</td>\n",
       "      <td>0</td>\n",
       "      <td>0</td>\n",
       "      <td>1</td>\n",
       "      <td>1</td>\n",
       "      <td>...</td>\n",
       "      <td>0</td>\n",
       "      <td>0</td>\n",
       "      <td>0</td>\n",
       "      <td>0</td>\n",
       "      <td>0</td>\n",
       "      <td>0</td>\n",
       "      <td>0</td>\n",
       "      <td>0</td>\n",
       "      <td>0</td>\n",
       "      <td>0</td>\n",
       "    </tr>\n",
       "    <tr>\n",
       "      <th>BMW</th>\n",
       "      <td>0</td>\n",
       "      <td>0</td>\n",
       "      <td>0</td>\n",
       "      <td>0</td>\n",
       "      <td>1</td>\n",
       "      <td>1</td>\n",
       "      <td>0</td>\n",
       "      <td>1</td>\n",
       "      <td>0</td>\n",
       "      <td>0</td>\n",
       "      <td>...</td>\n",
       "      <td>0</td>\n",
       "      <td>0</td>\n",
       "      <td>0</td>\n",
       "      <td>0</td>\n",
       "      <td>0</td>\n",
       "      <td>0</td>\n",
       "      <td>0</td>\n",
       "      <td>0</td>\n",
       "      <td>0</td>\n",
       "      <td>0</td>\n",
       "    </tr>\n",
       "    <tr>\n",
       "      <th>Buick</th>\n",
       "      <td>0</td>\n",
       "      <td>0</td>\n",
       "      <td>0</td>\n",
       "      <td>0</td>\n",
       "      <td>0</td>\n",
       "      <td>0</td>\n",
       "      <td>0</td>\n",
       "      <td>0</td>\n",
       "      <td>0</td>\n",
       "      <td>0</td>\n",
       "      <td>...</td>\n",
       "      <td>0</td>\n",
       "      <td>0</td>\n",
       "      <td>0</td>\n",
       "      <td>0</td>\n",
       "      <td>0</td>\n",
       "      <td>0</td>\n",
       "      <td>0</td>\n",
       "      <td>0</td>\n",
       "      <td>0</td>\n",
       "      <td>0</td>\n",
       "    </tr>\n",
       "    <tr>\n",
       "      <th>Cadillac</th>\n",
       "      <td>0</td>\n",
       "      <td>0</td>\n",
       "      <td>0</td>\n",
       "      <td>0</td>\n",
       "      <td>0</td>\n",
       "      <td>0</td>\n",
       "      <td>0</td>\n",
       "      <td>0</td>\n",
       "      <td>0</td>\n",
       "      <td>0</td>\n",
       "      <td>...</td>\n",
       "      <td>0</td>\n",
       "      <td>0</td>\n",
       "      <td>0</td>\n",
       "      <td>0</td>\n",
       "      <td>0</td>\n",
       "      <td>0</td>\n",
       "      <td>0</td>\n",
       "      <td>0</td>\n",
       "      <td>0</td>\n",
       "      <td>0</td>\n",
       "    </tr>\n",
       "    <tr>\n",
       "      <th>Chevrolet</th>\n",
       "      <td>0</td>\n",
       "      <td>0</td>\n",
       "      <td>0</td>\n",
       "      <td>0</td>\n",
       "      <td>0</td>\n",
       "      <td>0</td>\n",
       "      <td>0</td>\n",
       "      <td>0</td>\n",
       "      <td>0</td>\n",
       "      <td>0</td>\n",
       "      <td>...</td>\n",
       "      <td>0</td>\n",
       "      <td>0</td>\n",
       "      <td>0</td>\n",
       "      <td>0</td>\n",
       "      <td>0</td>\n",
       "      <td>0</td>\n",
       "      <td>0</td>\n",
       "      <td>0</td>\n",
       "      <td>0</td>\n",
       "      <td>0</td>\n",
       "    </tr>\n",
       "    <tr>\n",
       "      <th>Chrysler</th>\n",
       "      <td>0</td>\n",
       "      <td>0</td>\n",
       "      <td>0</td>\n",
       "      <td>1</td>\n",
       "      <td>0</td>\n",
       "      <td>0</td>\n",
       "      <td>0</td>\n",
       "      <td>0</td>\n",
       "      <td>0</td>\n",
       "      <td>0</td>\n",
       "      <td>...</td>\n",
       "      <td>1</td>\n",
       "      <td>0</td>\n",
       "      <td>0</td>\n",
       "      <td>0</td>\n",
       "      <td>0</td>\n",
       "      <td>0</td>\n",
       "      <td>0</td>\n",
       "      <td>0</td>\n",
       "      <td>0</td>\n",
       "      <td>0</td>\n",
       "    </tr>\n",
       "    <tr>\n",
       "      <th>Dodge</th>\n",
       "      <td>0</td>\n",
       "      <td>0</td>\n",
       "      <td>0</td>\n",
       "      <td>0</td>\n",
       "      <td>0</td>\n",
       "      <td>0</td>\n",
       "      <td>0</td>\n",
       "      <td>0</td>\n",
       "      <td>0</td>\n",
       "      <td>0</td>\n",
       "      <td>...</td>\n",
       "      <td>0</td>\n",
       "      <td>0</td>\n",
       "      <td>0</td>\n",
       "      <td>0</td>\n",
       "      <td>0</td>\n",
       "      <td>1</td>\n",
       "      <td>0</td>\n",
       "      <td>0</td>\n",
       "      <td>0</td>\n",
       "      <td>0</td>\n",
       "    </tr>\n",
       "    <tr>\n",
       "      <th>Ford</th>\n",
       "      <td>0</td>\n",
       "      <td>0</td>\n",
       "      <td>0</td>\n",
       "      <td>0</td>\n",
       "      <td>0</td>\n",
       "      <td>0</td>\n",
       "      <td>0</td>\n",
       "      <td>0</td>\n",
       "      <td>0</td>\n",
       "      <td>0</td>\n",
       "      <td>...</td>\n",
       "      <td>0</td>\n",
       "      <td>0</td>\n",
       "      <td>0</td>\n",
       "      <td>0</td>\n",
       "      <td>0</td>\n",
       "      <td>0</td>\n",
       "      <td>0</td>\n",
       "      <td>1</td>\n",
       "      <td>0</td>\n",
       "      <td>0</td>\n",
       "    </tr>\n",
       "    <tr>\n",
       "      <th>Honda</th>\n",
       "      <td>0</td>\n",
       "      <td>0</td>\n",
       "      <td>0</td>\n",
       "      <td>0</td>\n",
       "      <td>0</td>\n",
       "      <td>0</td>\n",
       "      <td>0</td>\n",
       "      <td>0</td>\n",
       "      <td>0</td>\n",
       "      <td>0</td>\n",
       "      <td>...</td>\n",
       "      <td>0</td>\n",
       "      <td>0</td>\n",
       "      <td>0</td>\n",
       "      <td>0</td>\n",
       "      <td>0</td>\n",
       "      <td>0</td>\n",
       "      <td>0</td>\n",
       "      <td>0</td>\n",
       "      <td>0</td>\n",
       "      <td>0</td>\n",
       "    </tr>\n",
       "    <tr>\n",
       "      <th>Hyundai</th>\n",
       "      <td>0</td>\n",
       "      <td>0</td>\n",
       "      <td>0</td>\n",
       "      <td>0</td>\n",
       "      <td>0</td>\n",
       "      <td>0</td>\n",
       "      <td>0</td>\n",
       "      <td>0</td>\n",
       "      <td>0</td>\n",
       "      <td>0</td>\n",
       "      <td>...</td>\n",
       "      <td>0</td>\n",
       "      <td>0</td>\n",
       "      <td>0</td>\n",
       "      <td>0</td>\n",
       "      <td>0</td>\n",
       "      <td>0</td>\n",
       "      <td>0</td>\n",
       "      <td>0</td>\n",
       "      <td>0</td>\n",
       "      <td>0</td>\n",
       "    </tr>\n",
       "    <tr>\n",
       "      <th>Infiniti</th>\n",
       "      <td>0</td>\n",
       "      <td>0</td>\n",
       "      <td>0</td>\n",
       "      <td>0</td>\n",
       "      <td>0</td>\n",
       "      <td>0</td>\n",
       "      <td>0</td>\n",
       "      <td>0</td>\n",
       "      <td>0</td>\n",
       "      <td>0</td>\n",
       "      <td>...</td>\n",
       "      <td>0</td>\n",
       "      <td>0</td>\n",
       "      <td>0</td>\n",
       "      <td>0</td>\n",
       "      <td>0</td>\n",
       "      <td>0</td>\n",
       "      <td>0</td>\n",
       "      <td>0</td>\n",
       "      <td>0</td>\n",
       "      <td>0</td>\n",
       "    </tr>\n",
       "    <tr>\n",
       "      <th>Jaguar</th>\n",
       "      <td>0</td>\n",
       "      <td>0</td>\n",
       "      <td>0</td>\n",
       "      <td>0</td>\n",
       "      <td>0</td>\n",
       "      <td>0</td>\n",
       "      <td>0</td>\n",
       "      <td>0</td>\n",
       "      <td>0</td>\n",
       "      <td>0</td>\n",
       "      <td>...</td>\n",
       "      <td>0</td>\n",
       "      <td>0</td>\n",
       "      <td>0</td>\n",
       "      <td>0</td>\n",
       "      <td>0</td>\n",
       "      <td>0</td>\n",
       "      <td>0</td>\n",
       "      <td>0</td>\n",
       "      <td>0</td>\n",
       "      <td>0</td>\n",
       "    </tr>\n",
       "    <tr>\n",
       "      <th>Jeep</th>\n",
       "      <td>0</td>\n",
       "      <td>0</td>\n",
       "      <td>0</td>\n",
       "      <td>0</td>\n",
       "      <td>0</td>\n",
       "      <td>0</td>\n",
       "      <td>0</td>\n",
       "      <td>0</td>\n",
       "      <td>0</td>\n",
       "      <td>0</td>\n",
       "      <td>...</td>\n",
       "      <td>0</td>\n",
       "      <td>0</td>\n",
       "      <td>0</td>\n",
       "      <td>0</td>\n",
       "      <td>0</td>\n",
       "      <td>0</td>\n",
       "      <td>0</td>\n",
       "      <td>0</td>\n",
       "      <td>1</td>\n",
       "      <td>0</td>\n",
       "    </tr>\n",
       "    <tr>\n",
       "      <th>Lexus</th>\n",
       "      <td>0</td>\n",
       "      <td>0</td>\n",
       "      <td>0</td>\n",
       "      <td>0</td>\n",
       "      <td>0</td>\n",
       "      <td>0</td>\n",
       "      <td>0</td>\n",
       "      <td>0</td>\n",
       "      <td>0</td>\n",
       "      <td>0</td>\n",
       "      <td>...</td>\n",
       "      <td>0</td>\n",
       "      <td>0</td>\n",
       "      <td>0</td>\n",
       "      <td>0</td>\n",
       "      <td>0</td>\n",
       "      <td>0</td>\n",
       "      <td>0</td>\n",
       "      <td>0</td>\n",
       "      <td>0</td>\n",
       "      <td>0</td>\n",
       "    </tr>\n",
       "    <tr>\n",
       "      <th>Lincoln</th>\n",
       "      <td>0</td>\n",
       "      <td>0</td>\n",
       "      <td>0</td>\n",
       "      <td>0</td>\n",
       "      <td>0</td>\n",
       "      <td>0</td>\n",
       "      <td>0</td>\n",
       "      <td>0</td>\n",
       "      <td>0</td>\n",
       "      <td>0</td>\n",
       "      <td>...</td>\n",
       "      <td>0</td>\n",
       "      <td>1</td>\n",
       "      <td>0</td>\n",
       "      <td>0</td>\n",
       "      <td>0</td>\n",
       "      <td>0</td>\n",
       "      <td>0</td>\n",
       "      <td>0</td>\n",
       "      <td>0</td>\n",
       "      <td>0</td>\n",
       "    </tr>\n",
       "    <tr>\n",
       "      <th>Mercedes-B</th>\n",
       "      <td>0</td>\n",
       "      <td>0</td>\n",
       "      <td>0</td>\n",
       "      <td>0</td>\n",
       "      <td>0</td>\n",
       "      <td>0</td>\n",
       "      <td>0</td>\n",
       "      <td>0</td>\n",
       "      <td>0</td>\n",
       "      <td>0</td>\n",
       "      <td>...</td>\n",
       "      <td>0</td>\n",
       "      <td>0</td>\n",
       "      <td>0</td>\n",
       "      <td>0</td>\n",
       "      <td>0</td>\n",
       "      <td>0</td>\n",
       "      <td>0</td>\n",
       "      <td>0</td>\n",
       "      <td>0</td>\n",
       "      <td>0</td>\n",
       "    </tr>\n",
       "    <tr>\n",
       "      <th>Mercury</th>\n",
       "      <td>0</td>\n",
       "      <td>0</td>\n",
       "      <td>0</td>\n",
       "      <td>0</td>\n",
       "      <td>0</td>\n",
       "      <td>0</td>\n",
       "      <td>0</td>\n",
       "      <td>0</td>\n",
       "      <td>0</td>\n",
       "      <td>0</td>\n",
       "      <td>...</td>\n",
       "      <td>0</td>\n",
       "      <td>0</td>\n",
       "      <td>0</td>\n",
       "      <td>0</td>\n",
       "      <td>1</td>\n",
       "      <td>0</td>\n",
       "      <td>0</td>\n",
       "      <td>0</td>\n",
       "      <td>0</td>\n",
       "      <td>0</td>\n",
       "    </tr>\n",
       "    <tr>\n",
       "      <th>Mitsubishi</th>\n",
       "      <td>0</td>\n",
       "      <td>0</td>\n",
       "      <td>1</td>\n",
       "      <td>0</td>\n",
       "      <td>0</td>\n",
       "      <td>0</td>\n",
       "      <td>0</td>\n",
       "      <td>0</td>\n",
       "      <td>0</td>\n",
       "      <td>0</td>\n",
       "      <td>...</td>\n",
       "      <td>0</td>\n",
       "      <td>0</td>\n",
       "      <td>0</td>\n",
       "      <td>0</td>\n",
       "      <td>0</td>\n",
       "      <td>0</td>\n",
       "      <td>0</td>\n",
       "      <td>0</td>\n",
       "      <td>0</td>\n",
       "      <td>0</td>\n",
       "    </tr>\n",
       "    <tr>\n",
       "      <th>Nissan</th>\n",
       "      <td>0</td>\n",
       "      <td>0</td>\n",
       "      <td>0</td>\n",
       "      <td>0</td>\n",
       "      <td>0</td>\n",
       "      <td>0</td>\n",
       "      <td>0</td>\n",
       "      <td>0</td>\n",
       "      <td>0</td>\n",
       "      <td>0</td>\n",
       "      <td>...</td>\n",
       "      <td>0</td>\n",
       "      <td>0</td>\n",
       "      <td>0</td>\n",
       "      <td>0</td>\n",
       "      <td>0</td>\n",
       "      <td>0</td>\n",
       "      <td>0</td>\n",
       "      <td>0</td>\n",
       "      <td>0</td>\n",
       "      <td>1</td>\n",
       "    </tr>\n",
       "    <tr>\n",
       "      <th>Oldsmobile</th>\n",
       "      <td>0</td>\n",
       "      <td>0</td>\n",
       "      <td>0</td>\n",
       "      <td>0</td>\n",
       "      <td>0</td>\n",
       "      <td>0</td>\n",
       "      <td>0</td>\n",
       "      <td>0</td>\n",
       "      <td>0</td>\n",
       "      <td>0</td>\n",
       "      <td>...</td>\n",
       "      <td>0</td>\n",
       "      <td>0</td>\n",
       "      <td>0</td>\n",
       "      <td>0</td>\n",
       "      <td>0</td>\n",
       "      <td>0</td>\n",
       "      <td>0</td>\n",
       "      <td>0</td>\n",
       "      <td>0</td>\n",
       "      <td>0</td>\n",
       "    </tr>\n",
       "    <tr>\n",
       "      <th>Plymouth</th>\n",
       "      <td>0</td>\n",
       "      <td>0</td>\n",
       "      <td>0</td>\n",
       "      <td>0</td>\n",
       "      <td>0</td>\n",
       "      <td>0</td>\n",
       "      <td>0</td>\n",
       "      <td>0</td>\n",
       "      <td>0</td>\n",
       "      <td>0</td>\n",
       "      <td>...</td>\n",
       "      <td>0</td>\n",
       "      <td>0</td>\n",
       "      <td>0</td>\n",
       "      <td>0</td>\n",
       "      <td>0</td>\n",
       "      <td>0</td>\n",
       "      <td>1</td>\n",
       "      <td>0</td>\n",
       "      <td>0</td>\n",
       "      <td>0</td>\n",
       "    </tr>\n",
       "    <tr>\n",
       "      <th>Pontiac</th>\n",
       "      <td>0</td>\n",
       "      <td>0</td>\n",
       "      <td>0</td>\n",
       "      <td>0</td>\n",
       "      <td>0</td>\n",
       "      <td>0</td>\n",
       "      <td>0</td>\n",
       "      <td>0</td>\n",
       "      <td>0</td>\n",
       "      <td>0</td>\n",
       "      <td>...</td>\n",
       "      <td>0</td>\n",
       "      <td>0</td>\n",
       "      <td>0</td>\n",
       "      <td>0</td>\n",
       "      <td>0</td>\n",
       "      <td>0</td>\n",
       "      <td>0</td>\n",
       "      <td>0</td>\n",
       "      <td>0</td>\n",
       "      <td>0</td>\n",
       "    </tr>\n",
       "    <tr>\n",
       "      <th>Porsche</th>\n",
       "      <td>0</td>\n",
       "      <td>0</td>\n",
       "      <td>0</td>\n",
       "      <td>0</td>\n",
       "      <td>0</td>\n",
       "      <td>0</td>\n",
       "      <td>0</td>\n",
       "      <td>0</td>\n",
       "      <td>0</td>\n",
       "      <td>0</td>\n",
       "      <td>...</td>\n",
       "      <td>0</td>\n",
       "      <td>0</td>\n",
       "      <td>0</td>\n",
       "      <td>0</td>\n",
       "      <td>0</td>\n",
       "      <td>0</td>\n",
       "      <td>0</td>\n",
       "      <td>0</td>\n",
       "      <td>0</td>\n",
       "      <td>0</td>\n",
       "    </tr>\n",
       "    <tr>\n",
       "      <th>Saab</th>\n",
       "      <td>1</td>\n",
       "      <td>1</td>\n",
       "      <td>0</td>\n",
       "      <td>0</td>\n",
       "      <td>0</td>\n",
       "      <td>0</td>\n",
       "      <td>0</td>\n",
       "      <td>0</td>\n",
       "      <td>0</td>\n",
       "      <td>0</td>\n",
       "      <td>...</td>\n",
       "      <td>0</td>\n",
       "      <td>0</td>\n",
       "      <td>0</td>\n",
       "      <td>0</td>\n",
       "      <td>0</td>\n",
       "      <td>0</td>\n",
       "      <td>0</td>\n",
       "      <td>0</td>\n",
       "      <td>0</td>\n",
       "      <td>0</td>\n",
       "    </tr>\n",
       "    <tr>\n",
       "      <th>Saturn</th>\n",
       "      <td>0</td>\n",
       "      <td>0</td>\n",
       "      <td>0</td>\n",
       "      <td>0</td>\n",
       "      <td>0</td>\n",
       "      <td>0</td>\n",
       "      <td>0</td>\n",
       "      <td>0</td>\n",
       "      <td>0</td>\n",
       "      <td>0</td>\n",
       "      <td>...</td>\n",
       "      <td>0</td>\n",
       "      <td>0</td>\n",
       "      <td>0</td>\n",
       "      <td>0</td>\n",
       "      <td>0</td>\n",
       "      <td>0</td>\n",
       "      <td>0</td>\n",
       "      <td>0</td>\n",
       "      <td>0</td>\n",
       "      <td>0</td>\n",
       "    </tr>\n",
       "    <tr>\n",
       "      <th>Subaru</th>\n",
       "      <td>0</td>\n",
       "      <td>0</td>\n",
       "      <td>0</td>\n",
       "      <td>0</td>\n",
       "      <td>0</td>\n",
       "      <td>0</td>\n",
       "      <td>0</td>\n",
       "      <td>0</td>\n",
       "      <td>0</td>\n",
       "      <td>0</td>\n",
       "      <td>...</td>\n",
       "      <td>0</td>\n",
       "      <td>0</td>\n",
       "      <td>0</td>\n",
       "      <td>0</td>\n",
       "      <td>0</td>\n",
       "      <td>0</td>\n",
       "      <td>0</td>\n",
       "      <td>0</td>\n",
       "      <td>0</td>\n",
       "      <td>0</td>\n",
       "    </tr>\n",
       "    <tr>\n",
       "      <th>Toyota</th>\n",
       "      <td>0</td>\n",
       "      <td>0</td>\n",
       "      <td>0</td>\n",
       "      <td>0</td>\n",
       "      <td>0</td>\n",
       "      <td>0</td>\n",
       "      <td>1</td>\n",
       "      <td>0</td>\n",
       "      <td>0</td>\n",
       "      <td>0</td>\n",
       "      <td>...</td>\n",
       "      <td>0</td>\n",
       "      <td>0</td>\n",
       "      <td>0</td>\n",
       "      <td>0</td>\n",
       "      <td>0</td>\n",
       "      <td>0</td>\n",
       "      <td>0</td>\n",
       "      <td>0</td>\n",
       "      <td>0</td>\n",
       "      <td>0</td>\n",
       "    </tr>\n",
       "    <tr>\n",
       "      <th>Volkswagen</th>\n",
       "      <td>0</td>\n",
       "      <td>0</td>\n",
       "      <td>0</td>\n",
       "      <td>0</td>\n",
       "      <td>0</td>\n",
       "      <td>0</td>\n",
       "      <td>0</td>\n",
       "      <td>0</td>\n",
       "      <td>0</td>\n",
       "      <td>0</td>\n",
       "      <td>...</td>\n",
       "      <td>0</td>\n",
       "      <td>0</td>\n",
       "      <td>0</td>\n",
       "      <td>0</td>\n",
       "      <td>0</td>\n",
       "      <td>0</td>\n",
       "      <td>0</td>\n",
       "      <td>0</td>\n",
       "      <td>0</td>\n",
       "      <td>0</td>\n",
       "    </tr>\n",
       "    <tr>\n",
       "      <th>Volvo</th>\n",
       "      <td>0</td>\n",
       "      <td>0</td>\n",
       "      <td>0</td>\n",
       "      <td>0</td>\n",
       "      <td>0</td>\n",
       "      <td>0</td>\n",
       "      <td>0</td>\n",
       "      <td>0</td>\n",
       "      <td>0</td>\n",
       "      <td>0</td>\n",
       "      <td>...</td>\n",
       "      <td>0</td>\n",
       "      <td>0</td>\n",
       "      <td>1</td>\n",
       "      <td>1</td>\n",
       "      <td>0</td>\n",
       "      <td>0</td>\n",
       "      <td>0</td>\n",
       "      <td>0</td>\n",
       "      <td>0</td>\n",
       "      <td>0</td>\n",
       "    </tr>\n",
       "  </tbody>\n",
       "</table>\n",
       "<p>30 rows × 156 columns</p>\n",
       "</div>"
      ],
      "text/plain": [
       "Model         03-Sep  05-Sep  3000GT  300M  323i  328i  4Runner  528i  A4  A6  \\\n",
       "Manufacturer                                                                    \n",
       "Acura              0       0       0     0     0     0        0     0   0   0   \n",
       "Audi               0       0       0     0     0     0        0     0   1   1   \n",
       "BMW                0       0       0     0     1     1        0     1   0   0   \n",
       "Buick              0       0       0     0     0     0        0     0   0   0   \n",
       "Cadillac           0       0       0     0     0     0        0     0   0   0   \n",
       "Chevrolet          0       0       0     0     0     0        0     0   0   0   \n",
       "Chrysler           0       0       0     1     0     0        0     0   0   0   \n",
       "Dodge              0       0       0     0     0     0        0     0   0   0   \n",
       "Ford               0       0       0     0     0     0        0     0   0   0   \n",
       "Honda              0       0       0     0     0     0        0     0   0   0   \n",
       "Hyundai            0       0       0     0     0     0        0     0   0   0   \n",
       "Infiniti           0       0       0     0     0     0        0     0   0   0   \n",
       "Jaguar             0       0       0     0     0     0        0     0   0   0   \n",
       "Jeep               0       0       0     0     0     0        0     0   0   0   \n",
       "Lexus              0       0       0     0     0     0        0     0   0   0   \n",
       "Lincoln            0       0       0     0     0     0        0     0   0   0   \n",
       "Mercedes-B         0       0       0     0     0     0        0     0   0   0   \n",
       "Mercury            0       0       0     0     0     0        0     0   0   0   \n",
       "Mitsubishi         0       0       1     0     0     0        0     0   0   0   \n",
       "Nissan             0       0       0     0     0     0        0     0   0   0   \n",
       "Oldsmobile         0       0       0     0     0     0        0     0   0   0   \n",
       "Plymouth           0       0       0     0     0     0        0     0   0   0   \n",
       "Pontiac            0       0       0     0     0     0        0     0   0   0   \n",
       "Porsche            0       0       0     0     0     0        0     0   0   0   \n",
       "Saab               1       1       0     0     0     0        0     0   0   0   \n",
       "Saturn             0       0       0     0     0     0        0     0   0   0   \n",
       "Subaru             0       0       0     0     0     0        0     0   0   0   \n",
       "Toyota             0       0       0     0     0     0        1     0   0   0   \n",
       "Volkswagen         0       0       0     0     0     0        0     0   0   0   \n",
       "Volvo              0       0       0     0     0     0        0     0   0   0   \n",
       "\n",
       "Model         ...  Town & Country  Town car  V40  V70  Villager  Viper  \\\n",
       "Manufacturer  ...                                                        \n",
       "Acura         ...               0         0    0    0         0      0   \n",
       "Audi          ...               0         0    0    0         0      0   \n",
       "BMW           ...               0         0    0    0         0      0   \n",
       "Buick         ...               0         0    0    0         0      0   \n",
       "Cadillac      ...               0         0    0    0         0      0   \n",
       "Chevrolet     ...               0         0    0    0         0      0   \n",
       "Chrysler      ...               1         0    0    0         0      0   \n",
       "Dodge         ...               0         0    0    0         0      1   \n",
       "Ford          ...               0         0    0    0         0      0   \n",
       "Honda         ...               0         0    0    0         0      0   \n",
       "Hyundai       ...               0         0    0    0         0      0   \n",
       "Infiniti      ...               0         0    0    0         0      0   \n",
       "Jaguar        ...               0         0    0    0         0      0   \n",
       "Jeep          ...               0         0    0    0         0      0   \n",
       "Lexus         ...               0         0    0    0         0      0   \n",
       "Lincoln       ...               0         1    0    0         0      0   \n",
       "Mercedes-B    ...               0         0    0    0         0      0   \n",
       "Mercury       ...               0         0    0    0         1      0   \n",
       "Mitsubishi    ...               0         0    0    0         0      0   \n",
       "Nissan        ...               0         0    0    0         0      0   \n",
       "Oldsmobile    ...               0         0    0    0         0      0   \n",
       "Plymouth      ...               0         0    0    0         0      0   \n",
       "Pontiac       ...               0         0    0    0         0      0   \n",
       "Porsche       ...               0         0    0    0         0      0   \n",
       "Saab          ...               0         0    0    0         0      0   \n",
       "Saturn        ...               0         0    0    0         0      0   \n",
       "Subaru        ...               0         0    0    0         0      0   \n",
       "Toyota        ...               0         0    0    0         0      0   \n",
       "Volkswagen    ...               0         0    0    0         0      0   \n",
       "Volvo         ...               0         0    1    1         0      0   \n",
       "\n",
       "Model         Voyager  Windstar  Wrangler  Xterra  \n",
       "Manufacturer                                       \n",
       "Acura               0         0         0       0  \n",
       "Audi                0         0         0       0  \n",
       "BMW                 0         0         0       0  \n",
       "Buick               0         0         0       0  \n",
       "Cadillac            0         0         0       0  \n",
       "Chevrolet           0         0         0       0  \n",
       "Chrysler            0         0         0       0  \n",
       "Dodge               0         0         0       0  \n",
       "Ford                0         1         0       0  \n",
       "Honda               0         0         0       0  \n",
       "Hyundai             0         0         0       0  \n",
       "Infiniti            0         0         0       0  \n",
       "Jaguar              0         0         0       0  \n",
       "Jeep                0         0         1       0  \n",
       "Lexus               0         0         0       0  \n",
       "Lincoln             0         0         0       0  \n",
       "Mercedes-B          0         0         0       0  \n",
       "Mercury             0         0         0       0  \n",
       "Mitsubishi          0         0         0       0  \n",
       "Nissan              0         0         0       1  \n",
       "Oldsmobile          0         0         0       0  \n",
       "Plymouth            1         0         0       0  \n",
       "Pontiac             0         0         0       0  \n",
       "Porsche             0         0         0       0  \n",
       "Saab                0         0         0       0  \n",
       "Saturn              0         0         0       0  \n",
       "Subaru              0         0         0       0  \n",
       "Toyota              0         0         0       0  \n",
       "Volkswagen          0         0         0       0  \n",
       "Volvo               0         0         0       0  \n",
       "\n",
       "[30 rows x 156 columns]"
      ]
     },
     "execution_count": 34,
     "metadata": {},
     "output_type": "execute_result"
    }
   ],
   "source": [
    "pd.crosstab(df[\"Manufacturer\"], df[\"Model\"])"
   ]
  },
  {
   "cell_type": "code",
   "execution_count": 35,
   "id": "1c714db4",
   "metadata": {},
   "outputs": [
    {
     "data": {
      "text/html": [
       "<div>\n",
       "<style scoped>\n",
       "    .dataframe tbody tr th:only-of-type {\n",
       "        vertical-align: middle;\n",
       "    }\n",
       "\n",
       "    .dataframe tbody tr th {\n",
       "        vertical-align: top;\n",
       "    }\n",
       "\n",
       "    .dataframe thead th {\n",
       "        text-align: right;\n",
       "    }\n",
       "</style>\n",
       "<table border=\"1\" class=\"dataframe\">\n",
       "  <thead>\n",
       "    <tr style=\"text-align: right;\">\n",
       "      <th>Vehicle_type</th>\n",
       "      <th>Car</th>\n",
       "      <th>Passenger</th>\n",
       "    </tr>\n",
       "    <tr>\n",
       "      <th>Manufacturer</th>\n",
       "      <th></th>\n",
       "      <th></th>\n",
       "    </tr>\n",
       "  </thead>\n",
       "  <tbody>\n",
       "    <tr>\n",
       "      <th>Acura</th>\n",
       "      <td>0</td>\n",
       "      <td>4</td>\n",
       "    </tr>\n",
       "    <tr>\n",
       "      <th>Audi</th>\n",
       "      <td>0</td>\n",
       "      <td>3</td>\n",
       "    </tr>\n",
       "    <tr>\n",
       "      <th>BMW</th>\n",
       "      <td>0</td>\n",
       "      <td>3</td>\n",
       "    </tr>\n",
       "    <tr>\n",
       "      <th>Buick</th>\n",
       "      <td>0</td>\n",
       "      <td>4</td>\n",
       "    </tr>\n",
       "    <tr>\n",
       "      <th>Cadillac</th>\n",
       "      <td>1</td>\n",
       "      <td>4</td>\n",
       "    </tr>\n",
       "    <tr>\n",
       "      <th>Chevrolet</th>\n",
       "      <td>0</td>\n",
       "      <td>9</td>\n",
       "    </tr>\n",
       "    <tr>\n",
       "      <th>Chrysler</th>\n",
       "      <td>1</td>\n",
       "      <td>6</td>\n",
       "    </tr>\n",
       "    <tr>\n",
       "      <th>Dodge</th>\n",
       "      <td>6</td>\n",
       "      <td>5</td>\n",
       "    </tr>\n",
       "    <tr>\n",
       "      <th>Ford</th>\n",
       "      <td>5</td>\n",
       "      <td>6</td>\n",
       "    </tr>\n",
       "    <tr>\n",
       "      <th>Honda</th>\n",
       "      <td>3</td>\n",
       "      <td>2</td>\n",
       "    </tr>\n",
       "    <tr>\n",
       "      <th>Hyundai</th>\n",
       "      <td>0</td>\n",
       "      <td>3</td>\n",
       "    </tr>\n",
       "    <tr>\n",
       "      <th>Infiniti</th>\n",
       "      <td>0</td>\n",
       "      <td>1</td>\n",
       "    </tr>\n",
       "    <tr>\n",
       "      <th>Jaguar</th>\n",
       "      <td>0</td>\n",
       "      <td>1</td>\n",
       "    </tr>\n",
       "    <tr>\n",
       "      <th>Jeep</th>\n",
       "      <td>3</td>\n",
       "      <td>0</td>\n",
       "    </tr>\n",
       "    <tr>\n",
       "      <th>Lexus</th>\n",
       "      <td>2</td>\n",
       "      <td>4</td>\n",
       "    </tr>\n",
       "    <tr>\n",
       "      <th>Lincoln</th>\n",
       "      <td>1</td>\n",
       "      <td>2</td>\n",
       "    </tr>\n",
       "    <tr>\n",
       "      <th>Mercedes-B</th>\n",
       "      <td>1</td>\n",
       "      <td>8</td>\n",
       "    </tr>\n",
       "    <tr>\n",
       "      <th>Mercury</th>\n",
       "      <td>2</td>\n",
       "      <td>4</td>\n",
       "    </tr>\n",
       "    <tr>\n",
       "      <th>Mitsubishi</th>\n",
       "      <td>2</td>\n",
       "      <td>5</td>\n",
       "    </tr>\n",
       "    <tr>\n",
       "      <th>Nissan</th>\n",
       "      <td>4</td>\n",
       "      <td>3</td>\n",
       "    </tr>\n",
       "    <tr>\n",
       "      <th>Oldsmobile</th>\n",
       "      <td>2</td>\n",
       "      <td>4</td>\n",
       "    </tr>\n",
       "    <tr>\n",
       "      <th>Plymouth</th>\n",
       "      <td>1</td>\n",
       "      <td>3</td>\n",
       "    </tr>\n",
       "    <tr>\n",
       "      <th>Pontiac</th>\n",
       "      <td>1</td>\n",
       "      <td>5</td>\n",
       "    </tr>\n",
       "    <tr>\n",
       "      <th>Porsche</th>\n",
       "      <td>0</td>\n",
       "      <td>3</td>\n",
       "    </tr>\n",
       "    <tr>\n",
       "      <th>Saab</th>\n",
       "      <td>0</td>\n",
       "      <td>2</td>\n",
       "    </tr>\n",
       "    <tr>\n",
       "      <th>Saturn</th>\n",
       "      <td>0</td>\n",
       "      <td>5</td>\n",
       "    </tr>\n",
       "    <tr>\n",
       "      <th>Subaru</th>\n",
       "      <td>1</td>\n",
       "      <td>1</td>\n",
       "    </tr>\n",
       "    <tr>\n",
       "      <th>Toyota</th>\n",
       "      <td>5</td>\n",
       "      <td>4</td>\n",
       "    </tr>\n",
       "    <tr>\n",
       "      <th>Volkswagen</th>\n",
       "      <td>0</td>\n",
       "      <td>6</td>\n",
       "    </tr>\n",
       "    <tr>\n",
       "      <th>Volvo</th>\n",
       "      <td>0</td>\n",
       "      <td>6</td>\n",
       "    </tr>\n",
       "  </tbody>\n",
       "</table>\n",
       "</div>"
      ],
      "text/plain": [
       "Vehicle_type  Car  Passenger\n",
       "Manufacturer                \n",
       "Acura           0          4\n",
       "Audi            0          3\n",
       "BMW             0          3\n",
       "Buick           0          4\n",
       "Cadillac        1          4\n",
       "Chevrolet       0          9\n",
       "Chrysler        1          6\n",
       "Dodge           6          5\n",
       "Ford            5          6\n",
       "Honda           3          2\n",
       "Hyundai         0          3\n",
       "Infiniti        0          1\n",
       "Jaguar          0          1\n",
       "Jeep            3          0\n",
       "Lexus           2          4\n",
       "Lincoln         1          2\n",
       "Mercedes-B      1          8\n",
       "Mercury         2          4\n",
       "Mitsubishi      2          5\n",
       "Nissan          4          3\n",
       "Oldsmobile      2          4\n",
       "Plymouth        1          3\n",
       "Pontiac         1          5\n",
       "Porsche         0          3\n",
       "Saab            0          2\n",
       "Saturn          0          5\n",
       "Subaru          1          1\n",
       "Toyota          5          4\n",
       "Volkswagen      0          6\n",
       "Volvo           0          6"
      ]
     },
     "execution_count": 35,
     "metadata": {},
     "output_type": "execute_result"
    }
   ],
   "source": [
    "pd.crosstab(df[\"Manufacturer\"], df[\"Vehicle_type\"])"
   ]
  },
  {
   "cell_type": "markdown",
   "id": "00277499",
   "metadata": {},
   "source": [
    "#### Cat - num"
   ]
  },
  {
   "cell_type": "code",
   "execution_count": 36,
   "id": "a10f8cc8",
   "metadata": {},
   "outputs": [
    {
     "data": {
      "text/html": [
       "<div>\n",
       "<style scoped>\n",
       "    .dataframe tbody tr th:only-of-type {\n",
       "        vertical-align: middle;\n",
       "    }\n",
       "\n",
       "    .dataframe tbody tr th {\n",
       "        vertical-align: top;\n",
       "    }\n",
       "\n",
       "    .dataframe thead tr th {\n",
       "        text-align: left;\n",
       "    }\n",
       "\n",
       "    .dataframe thead tr:last-of-type th {\n",
       "        text-align: right;\n",
       "    }\n",
       "</style>\n",
       "<table border=\"1\" class=\"dataframe\">\n",
       "  <thead>\n",
       "    <tr>\n",
       "      <th></th>\n",
       "      <th colspan=\"3\" halign=\"left\">Sales_in_thousands</th>\n",
       "    </tr>\n",
       "    <tr>\n",
       "      <th></th>\n",
       "      <th>amin</th>\n",
       "      <th>amax</th>\n",
       "      <th>mean</th>\n",
       "    </tr>\n",
       "    <tr>\n",
       "      <th>Manufacturer</th>\n",
       "      <th></th>\n",
       "      <th></th>\n",
       "      <th></th>\n",
       "    </tr>\n",
       "  </thead>\n",
       "  <tbody>\n",
       "    <tr>\n",
       "      <th>Acura</th>\n",
       "      <td>8.588</td>\n",
       "      <td>39.384</td>\n",
       "      <td>19.751250</td>\n",
       "    </tr>\n",
       "    <tr>\n",
       "      <th>Audi</th>\n",
       "      <td>1.380</td>\n",
       "      <td>20.397</td>\n",
       "      <td>13.519000</td>\n",
       "    </tr>\n",
       "    <tr>\n",
       "      <th>BMW</th>\n",
       "      <td>9.231</td>\n",
       "      <td>19.747</td>\n",
       "      <td>15.501667</td>\n",
       "    </tr>\n",
       "    <tr>\n",
       "      <th>Buick</th>\n",
       "      <td>27.851</td>\n",
       "      <td>91.561</td>\n",
       "      <td>60.504750</td>\n",
       "    </tr>\n",
       "    <tr>\n",
       "      <th>Cadillac</th>\n",
       "      <td>6.536</td>\n",
       "      <td>63.729</td>\n",
       "      <td>22.435600</td>\n",
       "    </tr>\n",
       "    <tr>\n",
       "      <th>Chevrolet</th>\n",
       "      <td>17.947</td>\n",
       "      <td>145.519</td>\n",
       "      <td>61.596111</td>\n",
       "    </tr>\n",
       "    <tr>\n",
       "      <th>Chrysler</th>\n",
       "      <td>7.854</td>\n",
       "      <td>53.480</td>\n",
       "      <td>28.817286</td>\n",
       "    </tr>\n",
       "    <tr>\n",
       "      <th>Dodge</th>\n",
       "      <td>0.916</td>\n",
       "      <td>227.061</td>\n",
       "      <td>82.740818</td>\n",
       "    </tr>\n",
       "    <tr>\n",
       "      <th>Ford</th>\n",
       "      <td>35.068</td>\n",
       "      <td>540.561</td>\n",
       "      <td>183.875909</td>\n",
       "    </tr>\n",
       "    <tr>\n",
       "      <th>Honda</th>\n",
       "      <td>12.855</td>\n",
       "      <td>230.902</td>\n",
       "      <td>118.534800</td>\n",
       "    </tr>\n",
       "    <tr>\n",
       "      <th>Hyundai</th>\n",
       "      <td>29.450</td>\n",
       "      <td>66.692</td>\n",
       "      <td>45.775333</td>\n",
       "    </tr>\n",
       "    <tr>\n",
       "      <th>Infiniti</th>\n",
       "      <td>23.713</td>\n",
       "      <td>23.713</td>\n",
       "      <td>23.713000</td>\n",
       "    </tr>\n",
       "    <tr>\n",
       "      <th>Jaguar</th>\n",
       "      <td>15.467</td>\n",
       "      <td>15.467</td>\n",
       "      <td>15.467000</td>\n",
       "    </tr>\n",
       "    <tr>\n",
       "      <th>Jeep</th>\n",
       "      <td>55.557</td>\n",
       "      <td>157.040</td>\n",
       "      <td>97.717667</td>\n",
       "    </tr>\n",
       "    <tr>\n",
       "      <th>Lexus</th>\n",
       "      <td>3.334</td>\n",
       "      <td>51.238</td>\n",
       "      <td>17.807167</td>\n",
       "    </tr>\n",
       "    <tr>\n",
       "      <th>Lincoln</th>\n",
       "      <td>13.798</td>\n",
       "      <td>48.911</td>\n",
       "      <td>28.544667</td>\n",
       "    </tr>\n",
       "    <tr>\n",
       "      <th>Mercedes-B</th>\n",
       "      <td>0.954</td>\n",
       "      <td>28.976</td>\n",
       "      <td>13.013889</td>\n",
       "    </tr>\n",
       "    <tr>\n",
       "      <th>Mercury</th>\n",
       "      <td>14.351</td>\n",
       "      <td>81.174</td>\n",
       "      <td>39.666500</td>\n",
       "    </tr>\n",
       "    <tr>\n",
       "      <th>Mitsubishi</th>\n",
       "      <td>0.110</td>\n",
       "      <td>55.616</td>\n",
       "      <td>25.842143</td>\n",
       "    </tr>\n",
       "    <tr>\n",
       "      <th>Nissan</th>\n",
       "      <td>27.308</td>\n",
       "      <td>88.094</td>\n",
       "      <td>57.090714</td>\n",
       "    </tr>\n",
       "    <tr>\n",
       "      <th>Oldsmobile</th>\n",
       "      <td>1.112</td>\n",
       "      <td>80.255</td>\n",
       "      <td>29.831500</td>\n",
       "    </tr>\n",
       "    <tr>\n",
       "      <th>Plymouth</th>\n",
       "      <td>1.872</td>\n",
       "      <td>32.734</td>\n",
       "      <td>16.000250</td>\n",
       "    </tr>\n",
       "    <tr>\n",
       "      <th>Pontiac</th>\n",
       "      <td>19.911</td>\n",
       "      <td>131.097</td>\n",
       "      <td>61.755667</td>\n",
       "    </tr>\n",
       "    <tr>\n",
       "      <th>Porsche</th>\n",
       "      <td>1.280</td>\n",
       "      <td>8.982</td>\n",
       "      <td>4.042667</td>\n",
       "    </tr>\n",
       "    <tr>\n",
       "      <th>Saab</th>\n",
       "      <td>9.191</td>\n",
       "      <td>12.115</td>\n",
       "      <td>10.653000</td>\n",
       "    </tr>\n",
       "    <tr>\n",
       "      <th>Saturn</th>\n",
       "      <td>5.223</td>\n",
       "      <td>80.620</td>\n",
       "      <td>33.770000</td>\n",
       "    </tr>\n",
       "    <tr>\n",
       "      <th>Subaru</th>\n",
       "      <td>33.028</td>\n",
       "      <td>47.107</td>\n",
       "      <td>40.067500</td>\n",
       "    </tr>\n",
       "    <tr>\n",
       "      <th>Toyota</th>\n",
       "      <td>9.835</td>\n",
       "      <td>247.994</td>\n",
       "      <td>82.245000</td>\n",
       "    </tr>\n",
       "    <tr>\n",
       "      <th>Volkswagen</th>\n",
       "      <td>5.596</td>\n",
       "      <td>83.721</td>\n",
       "      <td>34.868667</td>\n",
       "    </tr>\n",
       "    <tr>\n",
       "      <th>Volvo</th>\n",
       "      <td>3.493</td>\n",
       "      <td>18.969</td>\n",
       "      <td>12.623333</td>\n",
       "    </tr>\n",
       "  </tbody>\n",
       "</table>\n",
       "</div>"
      ],
      "text/plain": [
       "             Sales_in_thousands                     \n",
       "                           amin     amax        mean\n",
       "Manufacturer                                        \n",
       "Acura                     8.588   39.384   19.751250\n",
       "Audi                      1.380   20.397   13.519000\n",
       "BMW                       9.231   19.747   15.501667\n",
       "Buick                    27.851   91.561   60.504750\n",
       "Cadillac                  6.536   63.729   22.435600\n",
       "Chevrolet                17.947  145.519   61.596111\n",
       "Chrysler                  7.854   53.480   28.817286\n",
       "Dodge                     0.916  227.061   82.740818\n",
       "Ford                     35.068  540.561  183.875909\n",
       "Honda                    12.855  230.902  118.534800\n",
       "Hyundai                  29.450   66.692   45.775333\n",
       "Infiniti                 23.713   23.713   23.713000\n",
       "Jaguar                   15.467   15.467   15.467000\n",
       "Jeep                     55.557  157.040   97.717667\n",
       "Lexus                     3.334   51.238   17.807167\n",
       "Lincoln                  13.798   48.911   28.544667\n",
       "Mercedes-B                0.954   28.976   13.013889\n",
       "Mercury                  14.351   81.174   39.666500\n",
       "Mitsubishi                0.110   55.616   25.842143\n",
       "Nissan                   27.308   88.094   57.090714\n",
       "Oldsmobile                1.112   80.255   29.831500\n",
       "Plymouth                  1.872   32.734   16.000250\n",
       "Pontiac                  19.911  131.097   61.755667\n",
       "Porsche                   1.280    8.982    4.042667\n",
       "Saab                      9.191   12.115   10.653000\n",
       "Saturn                    5.223   80.620   33.770000\n",
       "Subaru                   33.028   47.107   40.067500\n",
       "Toyota                    9.835  247.994   82.245000\n",
       "Volkswagen                5.596   83.721   34.868667\n",
       "Volvo                     3.493   18.969   12.623333"
      ]
     },
     "execution_count": 36,
     "metadata": {},
     "output_type": "execute_result"
    }
   ],
   "source": [
    "df.groupby([\"Manufacturer\"]).agg({\"Sales_in_thousands\": [np.min, np.max, np.mean]})"
   ]
  },
  {
   "cell_type": "code",
   "execution_count": 37,
   "id": "c0d5a7cb",
   "metadata": {},
   "outputs": [
    {
     "data": {
      "text/html": [
       "<div>\n",
       "<style scoped>\n",
       "    .dataframe tbody tr th:only-of-type {\n",
       "        vertical-align: middle;\n",
       "    }\n",
       "\n",
       "    .dataframe tbody tr th {\n",
       "        vertical-align: top;\n",
       "    }\n",
       "\n",
       "    .dataframe thead tr th {\n",
       "        text-align: left;\n",
       "    }\n",
       "\n",
       "    .dataframe thead tr:last-of-type th {\n",
       "        text-align: right;\n",
       "    }\n",
       "</style>\n",
       "<table border=\"1\" class=\"dataframe\">\n",
       "  <thead>\n",
       "    <tr>\n",
       "      <th></th>\n",
       "      <th colspan=\"4\" halign=\"left\">Sales_in_thousands</th>\n",
       "    </tr>\n",
       "    <tr>\n",
       "      <th></th>\n",
       "      <th>amin</th>\n",
       "      <th>amax</th>\n",
       "      <th>mean</th>\n",
       "      <th>count</th>\n",
       "    </tr>\n",
       "    <tr>\n",
       "      <th>Vehicle_type</th>\n",
       "      <th></th>\n",
       "      <th></th>\n",
       "      <th></th>\n",
       "      <th></th>\n",
       "    </tr>\n",
       "  </thead>\n",
       "  <tbody>\n",
       "    <tr>\n",
       "      <th>Car</th>\n",
       "      <td>9.126</td>\n",
       "      <td>540.561</td>\n",
       "      <td>80.622293</td>\n",
       "      <td>41</td>\n",
       "    </tr>\n",
       "    <tr>\n",
       "      <th>Passenger</th>\n",
       "      <td>0.110</td>\n",
       "      <td>247.994</td>\n",
       "      <td>43.234345</td>\n",
       "      <td>116</td>\n",
       "    </tr>\n",
       "  </tbody>\n",
       "</table>\n",
       "</div>"
      ],
      "text/plain": [
       "             Sales_in_thousands                          \n",
       "                           amin     amax       mean count\n",
       "Vehicle_type                                             \n",
       "Car                       9.126  540.561  80.622293    41\n",
       "Passenger                 0.110  247.994  43.234345   116"
      ]
     },
     "execution_count": 37,
     "metadata": {},
     "output_type": "execute_result"
    }
   ],
   "source": [
    "df.groupby([\"Vehicle_type\"]).agg({\"Sales_in_thousands\": [np.min, np.max, np.mean, \"count\"]})"
   ]
  },
  {
   "cell_type": "markdown",
   "id": "ccb441c3",
   "metadata": {},
   "source": [
    "#### num - num"
   ]
  },
  {
   "cell_type": "code",
   "execution_count": 38,
   "id": "08b00ab9",
   "metadata": {},
   "outputs": [
    {
     "data": {
      "text/html": [
       "<div>\n",
       "<style scoped>\n",
       "    .dataframe tbody tr th:only-of-type {\n",
       "        vertical-align: middle;\n",
       "    }\n",
       "\n",
       "    .dataframe tbody tr th {\n",
       "        vertical-align: top;\n",
       "    }\n",
       "\n",
       "    .dataframe thead th {\n",
       "        text-align: right;\n",
       "    }\n",
       "</style>\n",
       "<table border=\"1\" class=\"dataframe\">\n",
       "  <thead>\n",
       "    <tr style=\"text-align: right;\">\n",
       "      <th></th>\n",
       "      <th>Sales_in_thousands</th>\n",
       "      <th>Price_in_thousands</th>\n",
       "    </tr>\n",
       "  </thead>\n",
       "  <tbody>\n",
       "    <tr>\n",
       "      <th>Sales_in_thousands</th>\n",
       "      <td>1.000000</td>\n",
       "      <td>-0.304734</td>\n",
       "    </tr>\n",
       "    <tr>\n",
       "      <th>Price_in_thousands</th>\n",
       "      <td>-0.304734</td>\n",
       "      <td>1.000000</td>\n",
       "    </tr>\n",
       "  </tbody>\n",
       "</table>\n",
       "</div>"
      ],
      "text/plain": [
       "                    Sales_in_thousands  Price_in_thousands\n",
       "Sales_in_thousands            1.000000           -0.304734\n",
       "Price_in_thousands           -0.304734            1.000000"
      ]
     },
     "execution_count": 38,
     "metadata": {},
     "output_type": "execute_result"
    }
   ],
   "source": [
    "df[[\"Sales_in_thousands\", \"Price_in_thousands\"]].corr()"
   ]
  },
  {
   "cell_type": "code",
   "execution_count": 39,
   "id": "ef5060a7",
   "metadata": {},
   "outputs": [
    {
     "data": {
      "image/png": "[encoded data removed]",
      "text/plain": [
       "<Figure size 432x288 with 1 Axes>"
      ]
     },
     "metadata": {
      "needs_background": "light"
     },
     "output_type": "display_data"
    }
   ],
   "source": [
    "sns.scatterplot( data=df,x=df[\"Price_in_thousands\"],y=df[\"Sales_in_thousands\"])\n",
    "plt.show()"
   ]
  },
  {
   "cell_type": "code",
   "execution_count": 40,
   "id": "6bfb1e2a",
   "metadata": {},
   "outputs": [
    {
     "data": {
      "image/png": "[encoded data removed]",
      "text/plain": [
       "<Figure size 432x288 with 1 Axes>"
      ]
     },
     "metadata": {
      "needs_background": "light"
     },
     "output_type": "display_data"
    }
   ],
   "source": [
    "sns.scatterplot( data=df,x=df[\"Price_in_thousands\"],\n",
    "                y=df[\"four_year_resale_value\"])\n",
    "plt.show()"
   ]
  },
  {
   "cell_type": "code",
   "execution_count": 41,
   "id": "d8c7fbb3",
   "metadata": {},
   "outputs": [],
   "source": [
    "#sns.pairplot(df)\n",
    "#plt.show() "
   ]
  },
  {
   "cell_type": "markdown",
   "id": "a411d6a5",
   "metadata": {},
   "source": [
    "### Missing Value Treatment \n",
    "* Methods \n",
    "    * Drop\n",
    "        1. Row Level ( drop if all or maximum rowsa are missing)\n",
    "            - (droping is not wise , do treatments, if we have 1000 \n",
    "            - records and if only 1-2 % are missing we can drop )\n",
    "        2. Column leve (if a column has more than 70% missing - drop it)\n",
    "           - ( check its importance in model only then delete)\n",
    "    * Imputation ( filling missing spaces / values )\n",
    "        1. central values \n",
    "            - if columns is continuous and no outliers - fill `mean`\n",
    "            - if columns is continuous and there are outliers-fill  `median`\n",
    "            - if variable is categorical - fill `mode`\n",
    "        2. specific value \n",
    "            - fill any other value than central values \n",
    "            - if continuous - fill such a value which is very different from the data\n",
    "            - if categorical - fill any other value other than given categories\n",
    "        3. use / create any predictive modeling to fill missings \n",
    "             - Knearest neigbhors algorithm (knn) ( most used)\n",
    "        4. ask whenerever the records are possible to get\n",
    "        5. forward fill and backword fill"
   ]
  },
  {
   "cell_type": "code",
   "execution_count": 42,
   "id": "db2a48b3",
   "metadata": {},
   "outputs": [
    {
     "data": {
      "text/plain": [
       "Manufacturer               0\n",
       "Model                      0\n",
       "Sales_in_thousands         0\n",
       "four_year_resale_value    36\n",
       "Vehicle_type               0\n",
       "Price_in_thousands         2\n",
       "Engine_size                1\n",
       "Horsepower                 1\n",
       "Wheelbase                  1\n",
       "Width                      1\n",
       "Length                     1\n",
       "Curb weight                2\n",
       "Fuel_capacity              1\n",
       "Fuel_efficiency            3\n",
       "dtype: int64"
      ]
     },
     "execution_count": 42,
     "metadata": {},
     "output_type": "execute_result"
    }
   ],
   "source": [
    "df.isnull().sum()"
   ]
  },
  {
   "cell_type": "code",
   "execution_count": 43,
   "id": "4edc38cd",
   "metadata": {},
   "outputs": [
    {
     "data": {
      "text/html": [
       "<div>\n",
       "<style scoped>\n",
       "    .dataframe tbody tr th:only-of-type {\n",
       "        vertical-align: middle;\n",
       "    }\n",
       "\n",
       "    .dataframe tbody tr th {\n",
       "        vertical-align: top;\n",
       "    }\n",
       "\n",
       "    .dataframe thead th {\n",
       "        text-align: right;\n",
       "    }\n",
       "</style>\n",
       "<table border=\"1\" class=\"dataframe\">\n",
       "  <thead>\n",
       "    <tr style=\"text-align: right;\">\n",
       "      <th></th>\n",
       "      <th>Variable</th>\n",
       "      <th>percentage</th>\n",
       "    </tr>\n",
       "  </thead>\n",
       "  <tbody>\n",
       "    <tr>\n",
       "      <th>0</th>\n",
       "      <td>Manufacturer</td>\n",
       "      <td>0.000000</td>\n",
       "    </tr>\n",
       "    <tr>\n",
       "      <th>1</th>\n",
       "      <td>Model</td>\n",
       "      <td>0.000000</td>\n",
       "    </tr>\n",
       "    <tr>\n",
       "      <th>2</th>\n",
       "      <td>Sales_in_thousands</td>\n",
       "      <td>0.000000</td>\n",
       "    </tr>\n",
       "    <tr>\n",
       "      <th>3</th>\n",
       "      <td>four_year_resale_value</td>\n",
       "      <td>22.929936</td>\n",
       "    </tr>\n",
       "    <tr>\n",
       "      <th>4</th>\n",
       "      <td>Vehicle_type</td>\n",
       "      <td>0.000000</td>\n",
       "    </tr>\n",
       "    <tr>\n",
       "      <th>5</th>\n",
       "      <td>Price_in_thousands</td>\n",
       "      <td>1.273885</td>\n",
       "    </tr>\n",
       "    <tr>\n",
       "      <th>6</th>\n",
       "      <td>Engine_size</td>\n",
       "      <td>0.636943</td>\n",
       "    </tr>\n",
       "    <tr>\n",
       "      <th>7</th>\n",
       "      <td>Horsepower</td>\n",
       "      <td>0.636943</td>\n",
       "    </tr>\n",
       "    <tr>\n",
       "      <th>8</th>\n",
       "      <td>Wheelbase</td>\n",
       "      <td>0.636943</td>\n",
       "    </tr>\n",
       "    <tr>\n",
       "      <th>9</th>\n",
       "      <td>Width</td>\n",
       "      <td>0.636943</td>\n",
       "    </tr>\n",
       "    <tr>\n",
       "      <th>10</th>\n",
       "      <td>Length</td>\n",
       "      <td>0.636943</td>\n",
       "    </tr>\n",
       "    <tr>\n",
       "      <th>11</th>\n",
       "      <td>Curb weight</td>\n",
       "      <td>1.273885</td>\n",
       "    </tr>\n",
       "    <tr>\n",
       "      <th>12</th>\n",
       "      <td>Fuel_capacity</td>\n",
       "      <td>0.636943</td>\n",
       "    </tr>\n",
       "    <tr>\n",
       "      <th>13</th>\n",
       "      <td>Fuel_efficiency</td>\n",
       "      <td>1.910828</td>\n",
       "    </tr>\n",
       "  </tbody>\n",
       "</table>\n",
       "</div>"
      ],
      "text/plain": [
       "                  Variable  percentage\n",
       "0             Manufacturer    0.000000\n",
       "1                    Model    0.000000\n",
       "2       Sales_in_thousands    0.000000\n",
       "3   four_year_resale_value   22.929936\n",
       "4             Vehicle_type    0.000000\n",
       "5       Price_in_thousands    1.273885\n",
       "6              Engine_size    0.636943\n",
       "7               Horsepower    0.636943\n",
       "8                Wheelbase    0.636943\n",
       "9                    Width    0.636943\n",
       "10                  Length    0.636943\n",
       "11             Curb weight    1.273885\n",
       "12           Fuel_capacity    0.636943\n",
       "13         Fuel_efficiency    1.910828"
      ]
     },
     "execution_count": 43,
     "metadata": {},
     "output_type": "execute_result"
    }
   ],
   "source": [
    "g=pd.DataFrame(df.isnull().sum()/157).reset_index()\n",
    "g.columns=[\"Variable\", \"percentage\"]\n",
    "g[\"percentage\"]=g[\"percentage\"]*100\n",
    "g"
   ]
  },
  {
   "cell_type": "markdown",
   "id": "8df2effe",
   "metadata": {},
   "source": [
    "### Treatments"
   ]
  },
  {
   "cell_type": "code",
   "execution_count": 44,
   "id": "e1cead4c",
   "metadata": {},
   "outputs": [],
   "source": [
    "df1=df.dropna()"
   ]
  },
  {
   "cell_type": "code",
   "execution_count": 45,
   "id": "4ddbd55f",
   "metadata": {},
   "outputs": [
    {
     "data": {
      "text/plain": [
       "(157, 14)"
      ]
     },
     "execution_count": 45,
     "metadata": {},
     "output_type": "execute_result"
    }
   ],
   "source": [
    "df.shape"
   ]
  },
  {
   "cell_type": "code",
   "execution_count": 46,
   "id": "9beb8ac8",
   "metadata": {},
   "outputs": [
    {
     "data": {
      "text/plain": [
       "(117, 14)"
      ]
     },
     "execution_count": 46,
     "metadata": {},
     "output_type": "execute_result"
    }
   ],
   "source": [
    "df1.shape"
   ]
  },
  {
   "cell_type": "code",
   "execution_count": 47,
   "id": "10a019a7",
   "metadata": {},
   "outputs": [
    {
     "data": {
      "text/plain": [
       "0.25477707006369427"
      ]
     },
     "execution_count": 47,
     "metadata": {},
     "output_type": "execute_result"
    }
   ],
   "source": [
    "40/157"
   ]
  },
  {
   "cell_type": "code",
   "execution_count": 48,
   "id": "48f0473f",
   "metadata": {},
   "outputs": [
    {
     "name": "stderr",
     "output_type": "stream",
     "text": [
      "C:\\Users\\YAMIM\\AppData\\Local\\Temp\\ipykernel_10464\\4039334390.py:1: FutureWarning: Dropping of nuisance columns in DataFrame reductions (with 'numeric_only=None') is deprecated; in a future version this will raise TypeError.  Select only valid columns before calling the reduction.\n",
      "  df2=df.fillna(df.median())  # will fill the mean of each column to its missing\n"
     ]
    }
   ],
   "source": [
    "df2=df.fillna(df.median())  # will fill the mean of each column to its missing"
   ]
  },
  {
   "cell_type": "code",
   "execution_count": 49,
   "id": "cc2af7c7",
   "metadata": {},
   "outputs": [
    {
     "data": {
      "text/plain": [
       "Manufacturer              0\n",
       "Model                     0\n",
       "Sales_in_thousands        0\n",
       "four_year_resale_value    0\n",
       "Vehicle_type              0\n",
       "Price_in_thousands        0\n",
       "Engine_size               0\n",
       "Horsepower                0\n",
       "Wheelbase                 0\n",
       "Width                     0\n",
       "Length                    0\n",
       "Curb weight               0\n",
       "Fuel_capacity             0\n",
       "Fuel_efficiency           0\n",
       "dtype: int64"
      ]
     },
     "execution_count": 49,
     "metadata": {},
     "output_type": "execute_result"
    }
   ],
   "source": [
    "df2.isnull().sum()"
   ]
  },
  {
   "cell_type": "code",
   "execution_count": 50,
   "id": "2e7832ac",
   "metadata": {},
   "outputs": [],
   "source": [
    "# from sklearn.impute import SimpleImputer\n",
    "# smt=SimpleImputer(strategy=\"median\")\n",
    "# df_ar=smt.fit_transform(df)"
   ]
  },
  {
   "cell_type": "markdown",
   "id": "f7a977e3",
   "metadata": {},
   "source": [
    "## Outliers "
   ]
  },
  {
   "cell_type": "markdown",
   "id": "35ef2ee5",
   "metadata": {},
   "source": [
    "* How to know the outliers (Methods)\n",
    "    * Tukey outliers method \n",
    "    * percentile method \n",
    "    * etc\n",
    "* Methods to treatment outliers\n",
    "    * Drop\n",
    "    * Capping\n",
    "    * If outliers are in abundance : separate model/ treatements"
   ]
  },
  {
   "cell_type": "code",
   "execution_count": 51,
   "id": "d2d5c441",
   "metadata": {},
   "outputs": [],
   "source": [
    "f=df2.describe(percentiles=[.01,.02,.03, .04,.05,.25,.5,.75, .9,.95,.96,.97,.98,.99]).T"
   ]
  },
  {
   "cell_type": "code",
   "execution_count": 52,
   "id": "c1440af7",
   "metadata": {},
   "outputs": [],
   "source": [
    "# f.to_excel(\"outlier.xlsx\")"
   ]
  },
  {
   "cell_type": "code",
   "execution_count": 53,
   "id": "6df6db84",
   "metadata": {},
   "outputs": [
    {
     "data": {
      "text/plain": [
       "'C:\\\\Users\\\\YAMIM\\\\Desktop\\\\Projects'"
      ]
     },
     "execution_count": 53,
     "metadata": {},
     "output_type": "execute_result"
    }
   ],
   "source": [
    "os.getcwd()"
   ]
  },
  {
   "cell_type": "code",
   "execution_count": 54,
   "id": "99e182e2",
   "metadata": {},
   "outputs": [
    {
     "data": {
      "text/html": [
       "<div>\n",
       "<style scoped>\n",
       "    .dataframe tbody tr th:only-of-type {\n",
       "        vertical-align: middle;\n",
       "    }\n",
       "\n",
       "    .dataframe tbody tr th {\n",
       "        vertical-align: top;\n",
       "    }\n",
       "\n",
       "    .dataframe thead th {\n",
       "        text-align: right;\n",
       "    }\n",
       "</style>\n",
       "<table border=\"1\" class=\"dataframe\">\n",
       "  <thead>\n",
       "    <tr style=\"text-align: right;\">\n",
       "      <th></th>\n",
       "      <th>count</th>\n",
       "      <th>mean</th>\n",
       "      <th>std</th>\n",
       "      <th>min</th>\n",
       "      <th>1%</th>\n",
       "      <th>2%</th>\n",
       "      <th>3%</th>\n",
       "      <th>4%</th>\n",
       "      <th>5%</th>\n",
       "      <th>25%</th>\n",
       "      <th>50%</th>\n",
       "      <th>75%</th>\n",
       "      <th>90%</th>\n",
       "      <th>95%</th>\n",
       "      <th>96%</th>\n",
       "      <th>97%</th>\n",
       "      <th>98%</th>\n",
       "      <th>99%</th>\n",
       "      <th>max</th>\n",
       "    </tr>\n",
       "  </thead>\n",
       "  <tbody>\n",
       "    <tr>\n",
       "      <th>Sales_in_thousands</th>\n",
       "      <td>157.0</td>\n",
       "      <td>52.998076</td>\n",
       "      <td>68.029422</td>\n",
       "      <td>0.110</td>\n",
       "      <td>0.93728</td>\n",
       "      <td>1.13216</td>\n",
       "      <td>1.34800</td>\n",
       "      <td>1.60760</td>\n",
       "      <td>1.8708</td>\n",
       "      <td>14.114</td>\n",
       "      <td>29.450</td>\n",
       "      <td>67.956</td>\n",
       "      <td>127.6416</td>\n",
       "      <td>185.3362</td>\n",
       "      <td>215.61840</td>\n",
       "      <td>228.29012</td>\n",
       "      <td>244.02544</td>\n",
       "      <td>260.64532</td>\n",
       "      <td>540.561</td>\n",
       "    </tr>\n",
       "    <tr>\n",
       "      <th>four_year_resale_value</th>\n",
       "      <td>157.0</td>\n",
       "      <td>17.180318</td>\n",
       "      <td>10.178562</td>\n",
       "      <td>5.160</td>\n",
       "      <td>6.73640</td>\n",
       "      <td>7.75000</td>\n",
       "      <td>7.80100</td>\n",
       "      <td>7.96400</td>\n",
       "      <td>8.4250</td>\n",
       "      <td>12.545</td>\n",
       "      <td>14.180</td>\n",
       "      <td>18.140</td>\n",
       "      <td>27.0250</td>\n",
       "      <td>39.2750</td>\n",
       "      <td>41.04000</td>\n",
       "      <td>44.30600</td>\n",
       "      <td>57.49860</td>\n",
       "      <td>59.49100</td>\n",
       "      <td>67.550</td>\n",
       "    </tr>\n",
       "    <tr>\n",
       "      <th>Price_in_thousands</th>\n",
       "      <td>157.0</td>\n",
       "      <td>27.332261</td>\n",
       "      <td>14.268713</td>\n",
       "      <td>9.235</td>\n",
       "      <td>10.25116</td>\n",
       "      <td>11.56052</td>\n",
       "      <td>11.96968</td>\n",
       "      <td>12.12880</td>\n",
       "      <td>12.4910</td>\n",
       "      <td>18.145</td>\n",
       "      <td>22.799</td>\n",
       "      <td>31.930</td>\n",
       "      <td>43.7880</td>\n",
       "      <td>55.2250</td>\n",
       "      <td>61.54520</td>\n",
       "      <td>69.70800</td>\n",
       "      <td>70.86460</td>\n",
       "      <td>78.32720</td>\n",
       "      <td>85.500</td>\n",
       "    </tr>\n",
       "    <tr>\n",
       "      <th>Engine_size</th>\n",
       "      <td>157.0</td>\n",
       "      <td>3.060510</td>\n",
       "      <td>1.041311</td>\n",
       "      <td>1.000</td>\n",
       "      <td>1.55600</td>\n",
       "      <td>1.80000</td>\n",
       "      <td>1.80000</td>\n",
       "      <td>1.80000</td>\n",
       "      <td>1.8000</td>\n",
       "      <td>2.300</td>\n",
       "      <td>3.000</td>\n",
       "      <td>3.500</td>\n",
       "      <td>4.6000</td>\n",
       "      <td>4.7600</td>\n",
       "      <td>5.00000</td>\n",
       "      <td>5.20000</td>\n",
       "      <td>5.37600</td>\n",
       "      <td>5.70000</td>\n",
       "      <td>8.000</td>\n",
       "    </tr>\n",
       "    <tr>\n",
       "      <th>Horsepower</th>\n",
       "      <td>157.0</td>\n",
       "      <td>185.894904</td>\n",
       "      <td>56.522319</td>\n",
       "      <td>55.000</td>\n",
       "      <td>96.48000</td>\n",
       "      <td>100.72000</td>\n",
       "      <td>106.68000</td>\n",
       "      <td>110.72000</td>\n",
       "      <td>114.6000</td>\n",
       "      <td>150.000</td>\n",
       "      <td>177.500</td>\n",
       "      <td>215.000</td>\n",
       "      <td>253.8000</td>\n",
       "      <td>300.0000</td>\n",
       "      <td>300.00000</td>\n",
       "      <td>300.64000</td>\n",
       "      <td>302.00000</td>\n",
       "      <td>325.40000</td>\n",
       "      <td>450.000</td>\n",
       "    </tr>\n",
       "    <tr>\n",
       "      <th>Wheelbase</th>\n",
       "      <td>157.0</td>\n",
       "      <td>107.484076</td>\n",
       "      <td>7.616872</td>\n",
       "      <td>92.600</td>\n",
       "      <td>92.88000</td>\n",
       "      <td>93.53200</td>\n",
       "      <td>94.50000</td>\n",
       "      <td>94.97200</td>\n",
       "      <td>95.9200</td>\n",
       "      <td>103.000</td>\n",
       "      <td>107.000</td>\n",
       "      <td>112.200</td>\n",
       "      <td>115.4600</td>\n",
       "      <td>119.2000</td>\n",
       "      <td>120.00000</td>\n",
       "      <td>120.95600</td>\n",
       "      <td>126.51600</td>\n",
       "      <td>134.30000</td>\n",
       "      <td>138.700</td>\n",
       "    </tr>\n",
       "    <tr>\n",
       "      <th>Width</th>\n",
       "      <td>157.0</td>\n",
       "      <td>71.146178</td>\n",
       "      <td>3.441124</td>\n",
       "      <td>62.600</td>\n",
       "      <td>66.09200</td>\n",
       "      <td>66.40000</td>\n",
       "      <td>66.46800</td>\n",
       "      <td>66.50000</td>\n",
       "      <td>66.5000</td>\n",
       "      <td>68.400</td>\n",
       "      <td>70.550</td>\n",
       "      <td>73.400</td>\n",
       "      <td>76.1800</td>\n",
       "      <td>78.2000</td>\n",
       "      <td>78.20000</td>\n",
       "      <td>78.73200</td>\n",
       "      <td>78.80000</td>\n",
       "      <td>79.18800</td>\n",
       "      <td>79.900</td>\n",
       "    </tr>\n",
       "    <tr>\n",
       "      <th>Length</th>\n",
       "      <td>157.0</td>\n",
       "      <td>187.347134</td>\n",
       "      <td>13.388708</td>\n",
       "      <td>149.400</td>\n",
       "      <td>154.96800</td>\n",
       "      <td>158.20000</td>\n",
       "      <td>160.87600</td>\n",
       "      <td>163.30000</td>\n",
       "      <td>163.7000</td>\n",
       "      <td>177.600</td>\n",
       "      <td>187.900</td>\n",
       "      <td>196.100</td>\n",
       "      <td>203.3400</td>\n",
       "      <td>208.5000</td>\n",
       "      <td>208.95600</td>\n",
       "      <td>212.00000</td>\n",
       "      <td>214.64000</td>\n",
       "      <td>219.21600</td>\n",
       "      <td>224.500</td>\n",
       "    </tr>\n",
       "    <tr>\n",
       "      <th>Curb weight</th>\n",
       "      <td>157.0</td>\n",
       "      <td>3.377567</td>\n",
       "      <td>0.626460</td>\n",
       "      <td>1.895</td>\n",
       "      <td>2.24560</td>\n",
       "      <td>2.33284</td>\n",
       "      <td>2.35804</td>\n",
       "      <td>2.40328</td>\n",
       "      <td>2.4240</td>\n",
       "      <td>2.975</td>\n",
       "      <td>3.342</td>\n",
       "      <td>3.778</td>\n",
       "      <td>4.1174</td>\n",
       "      <td>4.3884</td>\n",
       "      <td>4.45176</td>\n",
       "      <td>4.61216</td>\n",
       "      <td>5.07816</td>\n",
       "      <td>5.39652</td>\n",
       "      <td>5.572</td>\n",
       "    </tr>\n",
       "    <tr>\n",
       "      <th>Fuel_capacity</th>\n",
       "      <td>157.0</td>\n",
       "      <td>17.947134</td>\n",
       "      <td>3.875905</td>\n",
       "      <td>10.300</td>\n",
       "      <td>11.90000</td>\n",
       "      <td>12.01200</td>\n",
       "      <td>12.10000</td>\n",
       "      <td>12.19600</td>\n",
       "      <td>12.5000</td>\n",
       "      <td>15.800</td>\n",
       "      <td>17.200</td>\n",
       "      <td>19.500</td>\n",
       "      <td>23.2000</td>\n",
       "      <td>25.4000</td>\n",
       "      <td>25.85600</td>\n",
       "      <td>26.00000</td>\n",
       "      <td>29.52000</td>\n",
       "      <td>30.88000</td>\n",
       "      <td>32.000</td>\n",
       "    </tr>\n",
       "    <tr>\n",
       "      <th>Fuel_efficiency</th>\n",
       "      <td>157.0</td>\n",
       "      <td>23.847134</td>\n",
       "      <td>4.241380</td>\n",
       "      <td>15.000</td>\n",
       "      <td>15.00000</td>\n",
       "      <td>15.00000</td>\n",
       "      <td>15.68000</td>\n",
       "      <td>16.00000</td>\n",
       "      <td>16.8000</td>\n",
       "      <td>21.000</td>\n",
       "      <td>24.000</td>\n",
       "      <td>26.000</td>\n",
       "      <td>28.4000</td>\n",
       "      <td>31.0000</td>\n",
       "      <td>31.00000</td>\n",
       "      <td>32.32000</td>\n",
       "      <td>33.00000</td>\n",
       "      <td>33.00000</td>\n",
       "      <td>45.000</td>\n",
       "    </tr>\n",
       "  </tbody>\n",
       "</table>\n",
       "</div>"
      ],
      "text/plain": [
       "                        count        mean        std      min         1%  \\\n",
       "Sales_in_thousands      157.0   52.998076  68.029422    0.110    0.93728   \n",
       "four_year_resale_value  157.0   17.180318  10.178562    5.160    6.73640   \n",
       "Price_in_thousands      157.0   27.332261  14.268713    9.235   10.25116   \n",
       "Engine_size             157.0    3.060510   1.041311    1.000    1.55600   \n",
       "Horsepower              157.0  185.894904  56.522319   55.000   96.48000   \n",
       "Wheelbase               157.0  107.484076   7.616872   92.600   92.88000   \n",
       "Width                   157.0   71.146178   3.441124   62.600   66.09200   \n",
       "Length                  157.0  187.347134  13.388708  149.400  154.96800   \n",
       "Curb weight             157.0    3.377567   0.626460    1.895    2.24560   \n",
       "Fuel_capacity           157.0   17.947134   3.875905   10.300   11.90000   \n",
       "Fuel_efficiency         157.0   23.847134   4.241380   15.000   15.00000   \n",
       "\n",
       "                               2%         3%         4%        5%      25%  \\\n",
       "Sales_in_thousands        1.13216    1.34800    1.60760    1.8708   14.114   \n",
       "four_year_resale_value    7.75000    7.80100    7.96400    8.4250   12.545   \n",
       "Price_in_thousands       11.56052   11.96968   12.12880   12.4910   18.145   \n",
       "Engine_size               1.80000    1.80000    1.80000    1.8000    2.300   \n",
       "Horsepower              100.72000  106.68000  110.72000  114.6000  150.000   \n",
       "Wheelbase                93.53200   94.50000   94.97200   95.9200  103.000   \n",
       "Width                    66.40000   66.46800   66.50000   66.5000   68.400   \n",
       "Length                  158.20000  160.87600  163.30000  163.7000  177.600   \n",
       "Curb weight               2.33284    2.35804    2.40328    2.4240    2.975   \n",
       "Fuel_capacity            12.01200   12.10000   12.19600   12.5000   15.800   \n",
       "Fuel_efficiency          15.00000   15.68000   16.00000   16.8000   21.000   \n",
       "\n",
       "                            50%      75%       90%       95%        96%  \\\n",
       "Sales_in_thousands       29.450   67.956  127.6416  185.3362  215.61840   \n",
       "four_year_resale_value   14.180   18.140   27.0250   39.2750   41.04000   \n",
       "Price_in_thousands       22.799   31.930   43.7880   55.2250   61.54520   \n",
       "Engine_size               3.000    3.500    4.6000    4.7600    5.00000   \n",
       "Horsepower              177.500  215.000  253.8000  300.0000  300.00000   \n",
       "Wheelbase               107.000  112.200  115.4600  119.2000  120.00000   \n",
       "Width                    70.550   73.400   76.1800   78.2000   78.20000   \n",
       "Length                  187.900  196.100  203.3400  208.5000  208.95600   \n",
       "Curb weight               3.342    3.778    4.1174    4.3884    4.45176   \n",
       "Fuel_capacity            17.200   19.500   23.2000   25.4000   25.85600   \n",
       "Fuel_efficiency          24.000   26.000   28.4000   31.0000   31.00000   \n",
       "\n",
       "                              97%        98%        99%      max  \n",
       "Sales_in_thousands      228.29012  244.02544  260.64532  540.561  \n",
       "four_year_resale_value   44.30600   57.49860   59.49100   67.550  \n",
       "Price_in_thousands       69.70800   70.86460   78.32720   85.500  \n",
       "Engine_size               5.20000    5.37600    5.70000    8.000  \n",
       "Horsepower              300.64000  302.00000  325.40000  450.000  \n",
       "Wheelbase               120.95600  126.51600  134.30000  138.700  \n",
       "Width                    78.73200   78.80000   79.18800   79.900  \n",
       "Length                  212.00000  214.64000  219.21600  224.500  \n",
       "Curb weight               4.61216    5.07816    5.39652    5.572  \n",
       "Fuel_capacity            26.00000   29.52000   30.88000   32.000  \n",
       "Fuel_efficiency          32.32000   33.00000   33.00000   45.000  "
      ]
     },
     "execution_count": 54,
     "metadata": {},
     "output_type": "execute_result"
    }
   ],
   "source": [
    "f"
   ]
  },
  {
   "cell_type": "code",
   "execution_count": 55,
   "id": "ed2af977",
   "metadata": {},
   "outputs": [
    {
     "data": {
      "image/png": "[encoded data removed]",
      "text/plain": [
       "<Figure size 432x288 with 1 Axes>"
      ]
     },
     "metadata": {
      "needs_background": "light"
     },
     "output_type": "display_data"
    },
    {
     "data": {
      "image/png": "[encoded data removed]",
      "text/plain": [
       "<Figure size 432x288 with 1 Axes>"
      ]
     },
     "metadata": {
      "needs_background": "light"
     },
     "output_type": "display_data"
    },
    {
     "data": {
      "text/plain": [
       "{'missing': 0,\n",
       " 'min': 149.4,\n",
       " 'max': 224.5,\n",
       " 'mean': 187.35,\n",
       " 'var': 179.26,\n",
       " 'std': 13.39,\n",
       " 'range': 75.1,\n",
       " 'q1': 177.6,\n",
       " 'q2': 187.9,\n",
       " 'q3': 196.1,\n",
       " 'skewness': -0.06,\n",
       " 'kurtosis': 0.32}"
      ]
     },
     "execution_count": 55,
     "metadata": {},
     "output_type": "execute_result"
    }
   ],
   "source": [
    "univariate_num(df2[\"Length\"])"
   ]
  },
  {
   "cell_type": "code",
   "execution_count": 56,
   "id": "fca0a169",
   "metadata": {},
   "outputs": [
    {
     "data": {
      "text/plain": [
       "Manufacturer               object\n",
       "Model                      object\n",
       "Sales_in_thousands        float64\n",
       "four_year_resale_value    float64\n",
       "Vehicle_type               object\n",
       "Price_in_thousands        float64\n",
       "Engine_size               float64\n",
       "Horsepower                float64\n",
       "Wheelbase                 float64\n",
       "Width                     float64\n",
       "Length                    float64\n",
       "Curb weight               float64\n",
       "Fuel_capacity             float64\n",
       "Fuel_efficiency           float64\n",
       "dtype: object"
      ]
     },
     "execution_count": 56,
     "metadata": {},
     "output_type": "execute_result"
    }
   ],
   "source": [
    "df2.dtypes"
   ]
  },
  {
   "cell_type": "code",
   "execution_count": 57,
   "id": "881f3b1a",
   "metadata": {},
   "outputs": [],
   "source": [
    "ob_var=df2.dtypes[df2.dtypes==\"object\"].index"
   ]
  },
  {
   "cell_type": "code",
   "execution_count": 58,
   "id": "64843a88",
   "metadata": {},
   "outputs": [],
   "source": [
    "df_ob=df2[ob_var]"
   ]
  },
  {
   "cell_type": "code",
   "execution_count": 59,
   "id": "26c70e8b",
   "metadata": {},
   "outputs": [],
   "source": [
    "num_var=df2.dtypes[df2.dtypes!=\"object\"].index"
   ]
  },
  {
   "cell_type": "code",
   "execution_count": 60,
   "id": "467fd345",
   "metadata": {},
   "outputs": [],
   "source": [
    "df_num=df2[num_var]"
   ]
  },
  {
   "cell_type": "code",
   "execution_count": 61,
   "id": "5557d0c6",
   "metadata": {},
   "outputs": [],
   "source": [
    "### Outlier Capping Function - Method -1\n",
    "def outliers_percentile(x):\n",
    "    x=x.clip(upper=x.quantile(.99))\n",
    "#     x=x.clip(lower=x.quantile(.01))\n",
    "    return x"
   ]
  },
  {
   "cell_type": "code",
   "execution_count": 62,
   "id": "567228cf",
   "metadata": {},
   "outputs": [],
   "source": [
    "df_num1=df_num.apply(outliers_percentile)"
   ]
  },
  {
   "cell_type": "code",
   "execution_count": 63,
   "id": "f15bd6a4",
   "metadata": {},
   "outputs": [],
   "source": [
    "# df_num1.describe(percentiles=[.01,.02,.03, .04,.05,.25,.5,.75, .9,.95,.96,.97,.98,.99]).T"
   ]
  },
  {
   "cell_type": "code",
   "execution_count": 64,
   "id": "b7789225",
   "metadata": {},
   "outputs": [],
   "source": [
    "df3=pd.concat([df_ob, df_num1], axis=1)"
   ]
  },
  {
   "cell_type": "markdown",
   "id": "446f1434",
   "metadata": {},
   "source": [
    "### Converting non numeric to numeric"
   ]
  },
  {
   "cell_type": "markdown",
   "id": "47c575ac",
   "metadata": {},
   "source": [
    "#### Type of non numeric\n",
    "* Nominal\n",
    "    * drop nominal columns\n",
    "* ordinal (small , mediam , large) ( ranks )\n",
    "    * mark by number labeling ( small =0, mediam=1, large=2)\n",
    "* Categorical ( Job cat , Gender )\n",
    "    * Dummy Creation/ OnehotEncoder  \n",
    "\n",
    "    "
   ]
  },
  {
   "cell_type": "code",
   "execution_count": 65,
   "id": "523dbd53",
   "metadata": {},
   "outputs": [
    {
     "name": "stdout",
     "output_type": "stream",
     "text": [
      "Total missing values : 0\n",
      "\n",
      "Total count of unique categories: 30\n",
      "\n",
      "Unique categories :\n",
      "['Acura', 'Audi', 'BMW', 'Buick', 'Cadillac', 'Chevrolet', 'Chrysler', 'Dodge', 'Ford', 'Honda', 'Hyundai', 'Infiniti', 'Jaguar', 'Jeep', 'Lexus', 'Lincoln', 'Mitsubishi', 'Mercury', 'Mercedes-B', 'Nissan', 'Oldsmobile', 'Plymouth', 'Pontiac', 'Porsche', 'Saab', 'Saturn', 'Subaru', 'Toyota', 'Volkswagen', 'Volvo']\n"
     ]
    }
   ],
   "source": [
    "univariate_cat(df2[\"Manufacturer\"])"
   ]
  },
  {
   "cell_type": "code",
   "execution_count": 66,
   "id": "59ae99ce",
   "metadata": {},
   "outputs": [
    {
     "data": {
      "text/plain": [
       "Neon          2\n",
       "Integra       1\n",
       "Cutlass       1\n",
       "Sentra        1\n",
       "Altima        1\n",
       "             ..\n",
       "Windstar      1\n",
       "Expedition    1\n",
       "Ranger        1\n",
       "F-Series      1\n",
       "S80           1\n",
       "Name: Model, Length: 156, dtype: int64"
      ]
     },
     "execution_count": 66,
     "metadata": {},
     "output_type": "execute_result"
    }
   ],
   "source": [
    "df2[\"Model\"].value_counts()"
   ]
  },
  {
   "cell_type": "code",
   "execution_count": 67,
   "id": "dbac1a83",
   "metadata": {},
   "outputs": [],
   "source": [
    "df3.drop([\"Model\", \"Manufacturer\"], axis=1, inplace=True)"
   ]
  },
  {
   "cell_type": "code",
   "execution_count": 68,
   "id": "d275c15c",
   "metadata": {},
   "outputs": [
    {
     "data": {
      "text/plain": [
       "Passenger    116\n",
       "Car           41\n",
       "Name: Vehicle_type, dtype: int64"
      ]
     },
     "execution_count": 68,
     "metadata": {},
     "output_type": "execute_result"
    }
   ],
   "source": [
    "df3[\"Vehicle_type\"].value_counts()"
   ]
  },
  {
   "cell_type": "code",
   "execution_count": 69,
   "id": "ee53f5d1",
   "metadata": {},
   "outputs": [],
   "source": [
    "df3=pd.get_dummies(data=df3, columns=[\"Vehicle_type\"] , drop_first=True)"
   ]
  },
  {
   "cell_type": "markdown",
   "id": "6bd9501a",
   "metadata": {},
   "source": [
    "### Multicollinearity / correlation "
   ]
  },
  {
   "cell_type": "code",
   "execution_count": 70,
   "id": "68ef342b",
   "metadata": {},
   "outputs": [
    {
     "data": {
      "text/html": [
       "<div>\n",
       "<style scoped>\n",
       "    .dataframe tbody tr th:only-of-type {\n",
       "        vertical-align: middle;\n",
       "    }\n",
       "\n",
       "    .dataframe tbody tr th {\n",
       "        vertical-align: top;\n",
       "    }\n",
       "\n",
       "    .dataframe thead th {\n",
       "        text-align: right;\n",
       "    }\n",
       "</style>\n",
       "<table border=\"1\" class=\"dataframe\">\n",
       "  <thead>\n",
       "    <tr style=\"text-align: right;\">\n",
       "      <th></th>\n",
       "      <th>Sales_in_thousands</th>\n",
       "      <th>four_year_resale_value</th>\n",
       "      <th>Price_in_thousands</th>\n",
       "      <th>Engine_size</th>\n",
       "      <th>Horsepower</th>\n",
       "      <th>Wheelbase</th>\n",
       "      <th>Width</th>\n",
       "      <th>Length</th>\n",
       "      <th>Curb weight</th>\n",
       "      <th>Fuel_capacity</th>\n",
       "      <th>Fuel_efficiency</th>\n",
       "      <th>Vehicle_type_Passenger</th>\n",
       "    </tr>\n",
       "  </thead>\n",
       "  <tbody>\n",
       "    <tr>\n",
       "      <th>Sales_in_thousands</th>\n",
       "      <td>1.000000</td>\n",
       "      <td>-0.277074</td>\n",
       "      <td>-0.359528</td>\n",
       "      <td>-0.012365</td>\n",
       "      <td>-0.253747</td>\n",
       "      <td>0.278212</td>\n",
       "      <td>0.095055</td>\n",
       "      <td>0.199873</td>\n",
       "      <td>-0.032913</td>\n",
       "      <td>0.045528</td>\n",
       "      <td>0.036917</td>\n",
       "      <td>-0.230289</td>\n",
       "    </tr>\n",
       "    <tr>\n",
       "      <th>four_year_resale_value</th>\n",
       "      <td>-0.277074</td>\n",
       "      <td>1.000000</td>\n",
       "      <td>0.794152</td>\n",
       "      <td>0.437029</td>\n",
       "      <td>0.650880</td>\n",
       "      <td>-0.039570</td>\n",
       "      <td>0.173841</td>\n",
       "      <td>0.046335</td>\n",
       "      <td>0.281398</td>\n",
       "      <td>0.273146</td>\n",
       "      <td>-0.343529</td>\n",
       "      <td>0.083792</td>\n",
       "    </tr>\n",
       "    <tr>\n",
       "      <th>Price_in_thousands</th>\n",
       "      <td>-0.359528</td>\n",
       "      <td>0.794152</td>\n",
       "      <td>1.000000</td>\n",
       "      <td>0.618905</td>\n",
       "      <td>0.846112</td>\n",
       "      <td>0.117933</td>\n",
       "      <td>0.334113</td>\n",
       "      <td>0.161776</td>\n",
       "      <td>0.527793</td>\n",
       "      <td>0.433726</td>\n",
       "      <td>-0.508343</td>\n",
       "      <td>0.043715</td>\n",
       "    </tr>\n",
       "    <tr>\n",
       "      <th>Engine_size</th>\n",
       "      <td>-0.012365</td>\n",
       "      <td>0.437029</td>\n",
       "      <td>0.618905</td>\n",
       "      <td>1.000000</td>\n",
       "      <td>0.817919</td>\n",
       "      <td>0.521649</td>\n",
       "      <td>0.708289</td>\n",
       "      <td>0.581820</td>\n",
       "      <td>0.796447</td>\n",
       "      <td>0.701984</td>\n",
       "      <td>-0.760849</td>\n",
       "      <td>-0.279104</td>\n",
       "    </tr>\n",
       "    <tr>\n",
       "      <th>Horsepower</th>\n",
       "      <td>-0.253747</td>\n",
       "      <td>0.650880</td>\n",
       "      <td>0.846112</td>\n",
       "      <td>0.817919</td>\n",
       "      <td>1.000000</td>\n",
       "      <td>0.330965</td>\n",
       "      <td>0.549999</td>\n",
       "      <td>0.432683</td>\n",
       "      <td>0.644264</td>\n",
       "      <td>0.533713</td>\n",
       "      <td>-0.616503</td>\n",
       "      <td>-0.013517</td>\n",
       "    </tr>\n",
       "    <tr>\n",
       "      <th>Wheelbase</th>\n",
       "      <td>0.278212</td>\n",
       "      <td>-0.039570</td>\n",
       "      <td>0.117933</td>\n",
       "      <td>0.521649</td>\n",
       "      <td>0.330965</td>\n",
       "      <td>1.000000</td>\n",
       "      <td>0.685065</td>\n",
       "      <td>0.835972</td>\n",
       "      <td>0.658629</td>\n",
       "      <td>0.661311</td>\n",
       "      <td>-0.498321</td>\n",
       "      <td>-0.382329</td>\n",
       "    </tr>\n",
       "    <tr>\n",
       "      <th>Width</th>\n",
       "      <td>0.095055</td>\n",
       "      <td>0.173841</td>\n",
       "      <td>0.334113</td>\n",
       "      <td>0.708289</td>\n",
       "      <td>0.549999</td>\n",
       "      <td>0.685065</td>\n",
       "      <td>1.000000</td>\n",
       "      <td>0.708215</td>\n",
       "      <td>0.716930</td>\n",
       "      <td>0.654485</td>\n",
       "      <td>-0.592825</td>\n",
       "      <td>-0.240367</td>\n",
       "    </tr>\n",
       "    <tr>\n",
       "      <th>Length</th>\n",
       "      <td>0.199873</td>\n",
       "      <td>0.046335</td>\n",
       "      <td>0.161776</td>\n",
       "      <td>0.581820</td>\n",
       "      <td>0.432683</td>\n",
       "      <td>0.835972</td>\n",
       "      <td>0.708215</td>\n",
       "      <td>1.000000</td>\n",
       "      <td>0.626943</td>\n",
       "      <td>0.564550</td>\n",
       "      <td>-0.417942</td>\n",
       "      <td>-0.127859</td>\n",
       "    </tr>\n",
       "    <tr>\n",
       "      <th>Curb weight</th>\n",
       "      <td>-0.032913</td>\n",
       "      <td>0.281398</td>\n",
       "      <td>0.527793</td>\n",
       "      <td>0.796447</td>\n",
       "      <td>0.644264</td>\n",
       "      <td>0.658629</td>\n",
       "      <td>0.716930</td>\n",
       "      <td>0.626943</td>\n",
       "      <td>1.000000</td>\n",
       "      <td>0.869463</td>\n",
       "      <td>-0.831516</td>\n",
       "      <td>-0.517147</td>\n",
       "    </tr>\n",
       "    <tr>\n",
       "      <th>Fuel_capacity</th>\n",
       "      <td>0.045528</td>\n",
       "      <td>0.273146</td>\n",
       "      <td>0.433726</td>\n",
       "      <td>0.701984</td>\n",
       "      <td>0.533713</td>\n",
       "      <td>0.661311</td>\n",
       "      <td>0.654485</td>\n",
       "      <td>0.564550</td>\n",
       "      <td>0.869463</td>\n",
       "      <td>1.000000</td>\n",
       "      <td>-0.823686</td>\n",
       "      <td>-0.591339</td>\n",
       "    </tr>\n",
       "    <tr>\n",
       "      <th>Fuel_efficiency</th>\n",
       "      <td>0.036917</td>\n",
       "      <td>-0.343529</td>\n",
       "      <td>-0.508343</td>\n",
       "      <td>-0.760849</td>\n",
       "      <td>-0.616503</td>\n",
       "      <td>-0.498321</td>\n",
       "      <td>-0.592825</td>\n",
       "      <td>-0.417942</td>\n",
       "      <td>-0.831516</td>\n",
       "      <td>-0.823686</td>\n",
       "      <td>1.000000</td>\n",
       "      <td>0.597855</td>\n",
       "    </tr>\n",
       "    <tr>\n",
       "      <th>Vehicle_type_Passenger</th>\n",
       "      <td>-0.230289</td>\n",
       "      <td>0.083792</td>\n",
       "      <td>0.043715</td>\n",
       "      <td>-0.279104</td>\n",
       "      <td>-0.013517</td>\n",
       "      <td>-0.382329</td>\n",
       "      <td>-0.240367</td>\n",
       "      <td>-0.127859</td>\n",
       "      <td>-0.517147</td>\n",
       "      <td>-0.591339</td>\n",
       "      <td>0.597855</td>\n",
       "      <td>1.000000</td>\n",
       "    </tr>\n",
       "  </tbody>\n",
       "</table>\n",
       "</div>"
      ],
      "text/plain": [
       "                        Sales_in_thousands  four_year_resale_value  \\\n",
       "Sales_in_thousands                1.000000               -0.277074   \n",
       "four_year_resale_value           -0.277074                1.000000   \n",
       "Price_in_thousands               -0.359528                0.794152   \n",
       "Engine_size                      -0.012365                0.437029   \n",
       "Horsepower                       -0.253747                0.650880   \n",
       "Wheelbase                         0.278212               -0.039570   \n",
       "Width                             0.095055                0.173841   \n",
       "Length                            0.199873                0.046335   \n",
       "Curb weight                      -0.032913                0.281398   \n",
       "Fuel_capacity                     0.045528                0.273146   \n",
       "Fuel_efficiency                   0.036917               -0.343529   \n",
       "Vehicle_type_Passenger           -0.230289                0.083792   \n",
       "\n",
       "                        Price_in_thousands  Engine_size  Horsepower  \\\n",
       "Sales_in_thousands               -0.359528    -0.012365   -0.253747   \n",
       "four_year_resale_value            0.794152     0.437029    0.650880   \n",
       "Price_in_thousands                1.000000     0.618905    0.846112   \n",
       "Engine_size                       0.618905     1.000000    0.817919   \n",
       "Horsepower                        0.846112     0.817919    1.000000   \n",
       "Wheelbase                         0.117933     0.521649    0.330965   \n",
       "Width                             0.334113     0.708289    0.549999   \n",
       "Length                            0.161776     0.581820    0.432683   \n",
       "Curb weight                       0.527793     0.796447    0.644264   \n",
       "Fuel_capacity                     0.433726     0.701984    0.533713   \n",
       "Fuel_efficiency                  -0.508343    -0.760849   -0.616503   \n",
       "Vehicle_type_Passenger            0.043715    -0.279104   -0.013517   \n",
       "\n",
       "                        Wheelbase     Width    Length  Curb weight  \\\n",
       "Sales_in_thousands       0.278212  0.095055  0.199873    -0.032913   \n",
       "four_year_resale_value  -0.039570  0.173841  0.046335     0.281398   \n",
       "Price_in_thousands       0.117933  0.334113  0.161776     0.527793   \n",
       "Engine_size              0.521649  0.708289  0.581820     0.796447   \n",
       "Horsepower               0.330965  0.549999  0.432683     0.644264   \n",
       "Wheelbase                1.000000  0.685065  0.835972     0.658629   \n",
       "Width                    0.685065  1.000000  0.708215     0.716930   \n",
       "Length                   0.835972  0.708215  1.000000     0.626943   \n",
       "Curb weight              0.658629  0.716930  0.626943     1.000000   \n",
       "Fuel_capacity            0.661311  0.654485  0.564550     0.869463   \n",
       "Fuel_efficiency         -0.498321 -0.592825 -0.417942    -0.831516   \n",
       "Vehicle_type_Passenger  -0.382329 -0.240367 -0.127859    -0.517147   \n",
       "\n",
       "                        Fuel_capacity  Fuel_efficiency  Vehicle_type_Passenger  \n",
       "Sales_in_thousands           0.045528         0.036917               -0.230289  \n",
       "four_year_resale_value       0.273146        -0.343529                0.083792  \n",
       "Price_in_thousands           0.433726        -0.508343                0.043715  \n",
       "Engine_size                  0.701984        -0.760849               -0.279104  \n",
       "Horsepower                   0.533713        -0.616503               -0.013517  \n",
       "Wheelbase                    0.661311        -0.498321               -0.382329  \n",
       "Width                        0.654485        -0.592825               -0.240367  \n",
       "Length                       0.564550        -0.417942               -0.127859  \n",
       "Curb weight                  0.869463        -0.831516               -0.517147  \n",
       "Fuel_capacity                1.000000        -0.823686               -0.591339  \n",
       "Fuel_efficiency             -0.823686         1.000000                0.597855  \n",
       "Vehicle_type_Passenger      -0.591339         0.597855                1.000000  "
      ]
     },
     "execution_count": 70,
     "metadata": {},
     "output_type": "execute_result"
    }
   ],
   "source": [
    "cr=df3.corr()\n",
    "cr "
   ]
  },
  {
   "cell_type": "code",
   "execution_count": 71,
   "id": "0b730770",
   "metadata": {},
   "outputs": [],
   "source": [
    "cr.to_excel(\"corr.xlsx\")"
   ]
  },
  {
   "cell_type": "code",
   "execution_count": 72,
   "id": "7b9202e5",
   "metadata": {},
   "outputs": [
    {
     "data": {
      "image/png": "[encoded data removed]",
      "text/plain": [
       "<Figure size 720x432 with 2 Axes>"
      ]
     },
     "metadata": {
      "needs_background": "light"
     },
     "output_type": "display_data"
    }
   ],
   "source": [
    "plt.figure(figsize=(10,6))\n",
    "sns.heatmap(cr, annot=True, cmap=\"coolwarm\")\n",
    "plt.show()"
   ]
  },
  {
   "cell_type": "code",
   "execution_count": 73,
   "id": "d06ea98b",
   "metadata": {},
   "outputs": [
    {
     "data": {
      "image/png": "[encoded data removed]",
      "text/plain": [
       "<Figure size 720x432 with 2 Axes>"
      ]
     },
     "metadata": {
      "needs_background": "light"
     },
     "output_type": "display_data"
    }
   ],
   "source": [
    "cr1=cr[abs(cr)>.7]\n",
    "\n",
    "plt.figure(figsize=(10,6))\n",
    "sns.heatmap(cr1, annot=True, cmap=\"coolwarm\")\n",
    "plt.show()"
   ]
  },
  {
   "cell_type": "markdown",
   "id": "142782ea",
   "metadata": {},
   "source": [
    "* To find non corelated variable : we can use VIF ( Variance inflation Factor)\n",
    "* if we are generating normal model drop those features which have vif of more than 10\n",
    "* If we are into medical modeling , drop those features which have vif of more than 2 or 3"
   ]
  },
  {
   "cell_type": "code",
   "execution_count": 74,
   "id": "043083de",
   "metadata": {},
   "outputs": [
    {
     "data": {
      "text/plain": [
       "Sales_in_thousands        0\n",
       "four_year_resale_value    0\n",
       "Price_in_thousands        0\n",
       "Engine_size               0\n",
       "Horsepower                0\n",
       "Wheelbase                 0\n",
       "Width                     0\n",
       "Length                    0\n",
       "Curb weight               0\n",
       "Fuel_capacity             0\n",
       "Fuel_efficiency           0\n",
       "Vehicle_type_Passenger    0\n",
       "dtype: int64"
      ]
     },
     "execution_count": 74,
     "metadata": {},
     "output_type": "execute_result"
    }
   ],
   "source": [
    "df3.isnull().sum()"
   ]
  },
  {
   "cell_type": "code",
   "execution_count": 75,
   "id": "1d258995",
   "metadata": {},
   "outputs": [
    {
     "data": {
      "text/html": [
       "<div>\n",
       "<style scoped>\n",
       "    .dataframe tbody tr th:only-of-type {\n",
       "        vertical-align: middle;\n",
       "    }\n",
       "\n",
       "    .dataframe tbody tr th {\n",
       "        vertical-align: top;\n",
       "    }\n",
       "\n",
       "    .dataframe thead th {\n",
       "        text-align: right;\n",
       "    }\n",
       "</style>\n",
       "<table border=\"1\" class=\"dataframe\">\n",
       "  <thead>\n",
       "    <tr style=\"text-align: right;\">\n",
       "      <th></th>\n",
       "      <th>feature</th>\n",
       "      <th>VIF</th>\n",
       "    </tr>\n",
       "  </thead>\n",
       "  <tbody>\n",
       "    <tr>\n",
       "      <th>1</th>\n",
       "      <td>Engine_size</td>\n",
       "      <td>14.122342</td>\n",
       "    </tr>\n",
       "    <tr>\n",
       "      <th>2</th>\n",
       "      <td>Fuel_efficiency</td>\n",
       "      <td>12.137613</td>\n",
       "    </tr>\n",
       "    <tr>\n",
       "      <th>0</th>\n",
       "      <td>Price_in_thousands</td>\n",
       "      <td>8.855448</td>\n",
       "    </tr>\n",
       "    <tr>\n",
       "      <th>3</th>\n",
       "      <td>Vehicle_type_Passenger</td>\n",
       "      <td>6.049114</td>\n",
       "    </tr>\n",
       "  </tbody>\n",
       "</table>\n",
       "</div>"
      ],
      "text/plain": [
       "                  feature        VIF\n",
       "1             Engine_size  14.122342\n",
       "2         Fuel_efficiency  12.137613\n",
       "0      Price_in_thousands   8.855448\n",
       "3  Vehicle_type_Passenger   6.049114"
      ]
     },
     "execution_count": 75,
     "metadata": {},
     "output_type": "execute_result"
    }
   ],
   "source": [
    "from statsmodels.stats.outliers_influence import variance_inflation_factor\n",
    "\n",
    "X = df3[[ 'Price_in_thousands',\n",
    "       'Engine_size',  \n",
    "         'Fuel_efficiency', \"Vehicle_type_Passenger\"]]\n",
    "  \n",
    "# VIF dataframe\n",
    "vif_data = pd.DataFrame()\n",
    "vif_data[\"feature\"] = X.columns\n",
    "  \n",
    "# calculating VIF for each feature\n",
    "vif_data[\"VIF\"] = [variance_inflation_factor(X.values, i)\n",
    "                          for i in range(len(X.columns))]\n",
    "  \n",
    "vif_data.sort_values(by=[\"VIF\"], ascending=False)"
   ]
  },
  {
   "cell_type": "markdown",
   "id": "89514032",
   "metadata": {},
   "source": [
    "### Normality Assumption"
   ]
  },
  {
   "cell_type": "markdown",
   "id": "a7c2090d",
   "metadata": {},
   "source": [
    "Y should be normally distributed\n",
    "* By Graph ( Histogram -sns) (distplot-sns)\n",
    "* Hypothesis Testing ( Shapiro -Sample size < 5000) ( Jarque Bera Sample Size > 5000)\n"
   ]
  },
  {
   "cell_type": "raw",
   "id": "fd12df2c",
   "metadata": {},
   "source": [
    "# Shapiro Normality Test \n",
    "Null Hypo= Data is normally distributed\n",
    "Alter Hyp= Data is not normally distributed \n",
    "CI =95%\n",
    "Alpha =.05\n",
    "Decision Rule :\n",
    "    if p value >= Alpha : accept Null Hypothesis \n",
    "    if p value < alpha : Reject Null Hypo\n",
    "\n"
   ]
  },
  {
   "cell_type": "code",
   "execution_count": 76,
   "id": "de73c352",
   "metadata": {},
   "outputs": [
    {
     "data": {
      "image/png": "[encoded data removed]",
      "text/plain": [
       "<Figure size 432x288 with 1 Axes>"
      ]
     },
     "metadata": {
      "needs_background": "light"
     },
     "output_type": "display_data"
    }
   ],
   "source": [
    "sns.histplot(df3[\"Sales_in_thousands\"])\n",
    "plt.show()"
   ]
  },
  {
   "cell_type": "code",
   "execution_count": 77,
   "id": "d96ce611",
   "metadata": {},
   "outputs": [],
   "source": [
    "from scipy.stats import shapiro"
   ]
  },
  {
   "cell_type": "code",
   "execution_count": 78,
   "id": "e239dc65",
   "metadata": {},
   "outputs": [
    {
     "data": {
      "text/plain": [
       "ShapiroResult(statistic=0.7552342414855957, pvalue=6.811577652154855e-15)"
      ]
     },
     "execution_count": 78,
     "metadata": {},
     "output_type": "execute_result"
    }
   ],
   "source": [
    "shapiro(df3[\"Sales_in_thousands\"])"
   ]
  },
  {
   "cell_type": "markdown",
   "id": "ad783e41",
   "metadata": {},
   "source": [
    "As we know that data is not normally distributed so we have two options\n",
    "1. Use Techniques which does not have an assumtions of Normality \n",
    "2. If you wish to use Linear Reg, trnasform  the data to make it normal\n",
    "    * Transformation (Square, squareroot, cube, cube root , log,COXbox transformation et...)"
   ]
  },
  {
   "cell_type": "code",
   "execution_count": 79,
   "id": "03b8a9f6",
   "metadata": {},
   "outputs": [
    {
     "data": {
      "text/plain": [
       "<AxesSubplot:xlabel='Sales_in_thousands', ylabel='Count'>"
      ]
     },
     "execution_count": 79,
     "metadata": {},
     "output_type": "execute_result"
    },
    {
     "data": {
      "image/png": "[encoded data removed]",
      "text/plain": [
       "<Figure size 576x432 with 2 Axes>"
      ]
     },
     "metadata": {
      "needs_background": "light"
     },
     "output_type": "display_data"
    }
   ],
   "source": [
    "plt.figure(figsize=(8,6))\n",
    "plt.subplot(221)\n",
    "sns.histplot(df3[\"Sales_in_thousands\"])\n",
    "plt.subplot(222)\n",
    "sns.histplot(np.sqrt(df3[\"Sales_in_thousands\"]))"
   ]
  },
  {
   "cell_type": "code",
   "execution_count": 80,
   "id": "766510e9",
   "metadata": {},
   "outputs": [
    {
     "data": {
      "text/plain": [
       "ShapiroResult(statistic=0.9356706738471985, pvalue=1.5567044329145574e-06)"
      ]
     },
     "execution_count": 80,
     "metadata": {},
     "output_type": "execute_result"
    }
   ],
   "source": [
    "shapiro(np.sqrt(df3[\"Sales_in_thousands\"]))"
   ]
  },
  {
   "cell_type": "code",
   "execution_count": 81,
   "id": "c88679dd",
   "metadata": {},
   "outputs": [
    {
     "data": {
      "text/plain": [
       "<AxesSubplot:xlabel='Sales_in_thousands', ylabel='Count'>"
      ]
     },
     "execution_count": 81,
     "metadata": {},
     "output_type": "execute_result"
    },
    {
     "data": {
      "image/png": "[encoded data removed]",
      "text/plain": [
       "<Figure size 576x432 with 2 Axes>"
      ]
     },
     "metadata": {
      "needs_background": "light"
     },
     "output_type": "display_data"
    }
   ],
   "source": [
    "plt.figure(figsize=(8,6))\n",
    "plt.subplot(221)\n",
    "sns.histplot(df3[\"Sales_in_thousands\"])\n",
    "plt.subplot(222)\n",
    "sns.histplot(np.log1p(df3[\"Sales_in_thousands\"]))"
   ]
  },
  {
   "cell_type": "code",
   "execution_count": 82,
   "id": "98d9dca6",
   "metadata": {},
   "outputs": [
    {
     "data": {
      "text/plain": [
       "ShapiroResult(statistic=0.9831066727638245, pvalue=0.05211321637034416)"
      ]
     },
     "execution_count": 82,
     "metadata": {},
     "output_type": "execute_result"
    }
   ],
   "source": [
    "shapiro(np.log1p(df3[\"Sales_in_thousands\"]))"
   ]
  },
  {
   "cell_type": "code",
   "execution_count": 83,
   "id": "3dff93e7",
   "metadata": {},
   "outputs": [],
   "source": [
    "df3[\"log_Sale\"]=np.log1p(df3[\"Sales_in_thousands\"])"
   ]
  },
  {
   "cell_type": "markdown",
   "id": "e70f137b",
   "metadata": {},
   "source": [
    "## Model Development "
   ]
  },
  {
   "cell_type": "markdown",
   "id": "0deb3e99",
   "metadata": {},
   "source": [
    "* Seperate x, y\n",
    "* Split into Train and Test\n",
    "* run model on Train Data and validate on train and test ( MSE, RMSE, MAE, MAPE)\n"
   ]
  },
  {
   "cell_type": "code",
   "execution_count": 84,
   "id": "f1f19ca5",
   "metadata": {},
   "outputs": [],
   "source": [
    "x=df3[['Price_in_thousands',\n",
    "       'Engine_size',  \n",
    "         'Fuel_efficiency', \"Vehicle_type_Passenger\"]]\n",
    "y=df3[\"log_Sale\"]"
   ]
  },
  {
   "cell_type": "code",
   "execution_count": 85,
   "id": "886a4309",
   "metadata": {},
   "outputs": [],
   "source": [
    "from sklearn.model_selection import train_test_split  # Train test split\n",
    "from sklearn.linear_model import LinearRegression     # Model development\n",
    "from sklearn import metrics                            # Model evaluate/"
   ]
  },
  {
   "cell_type": "code",
   "execution_count": 86,
   "id": "900d00a6",
   "metadata": {},
   "outputs": [],
   "source": [
    "x_train, x_test, y_train, y_test=train_test_split(x,y, test_size=.25, \n",
    "                                                  random_state=0)"
   ]
  },
  {
   "cell_type": "code",
   "execution_count": 87,
   "id": "8c9afbfd",
   "metadata": {},
   "outputs": [
    {
     "data": {
      "text/html": [
       "<style>#sk-container-id-1 {color: black;background-color: white;}#sk-container-id-1 pre{padding: 0;}#sk-container-id-1 div.sk-toggleable {background-color: white;}#sk-container-id-1 label.sk-toggleable__label {cursor: pointer;display: block;width: 100%;margin-bottom: 0;padding: 0.3em;box-sizing: border-box;text-align: center;}#sk-container-id-1 label.sk-toggleable__label-arrow:before {content: \"▸\";float: left;margin-right: 0.25em;color: #696969;}#sk-container-id-1 label.sk-toggleable__label-arrow:hover:before {color: black;}#sk-container-id-1 div.sk-estimator:hover label.sk-toggleable__label-arrow:before {color: black;}#sk-container-id-1 div.sk-toggleable__content {max-height: 0;max-width: 0;overflow: hidden;text-align: left;background-color: #f0f8ff;}#sk-container-id-1 div.sk-toggleable__content pre {margin: 0.2em;color: black;border-radius: 0.25em;background-color: #f0f8ff;}#sk-container-id-1 input.sk-toggleable__control:checked~div.sk-toggleable__content {max-height: 200px;max-width: 100%;overflow: auto;}#sk-container-id-1 input.sk-toggleable__control:checked~label.sk-toggleable__label-arrow:before {content: \"▾\";}#sk-container-id-1 div.sk-estimator input.sk-toggleable__control:checked~label.sk-toggleable__label {background-color: #d4ebff;}#sk-container-id-1 div.sk-label input.sk-toggleable__control:checked~label.sk-toggleable__label {background-color: #d4ebff;}#sk-container-id-1 input.sk-hidden--visually {border: 0;clip: rect(1px 1px 1px 1px);clip: rect(1px, 1px, 1px, 1px);height: 1px;margin: -1px;overflow: hidden;padding: 0;position: absolute;width: 1px;}#sk-container-id-1 div.sk-estimator {font-family: monospace;background-color: #f0f8ff;border: 1px dotted black;border-radius: 0.25em;box-sizing: border-box;margin-bottom: 0.5em;}#sk-container-id-1 div.sk-estimator:hover {background-color: #d4ebff;}#sk-container-id-1 div.sk-parallel-item::after {content: \"\";width: 100%;border-bottom: 1px solid gray;flex-grow: 1;}#sk-container-id-1 div.sk-label:hover label.sk-toggleable__label {background-color: #d4ebff;}#sk-container-id-1 div.sk-serial::before {content: \"\";position: absolute;border-left: 1px solid gray;box-sizing: border-box;top: 0;bottom: 0;left: 50%;z-index: 0;}#sk-container-id-1 div.sk-serial {display: flex;flex-direction: column;align-items: center;background-color: white;padding-right: 0.2em;padding-left: 0.2em;position: relative;}#sk-container-id-1 div.sk-item {position: relative;z-index: 1;}#sk-container-id-1 div.sk-parallel {display: flex;align-items: stretch;justify-content: center;background-color: white;position: relative;}#sk-container-id-1 div.sk-item::before, #sk-container-id-1 div.sk-parallel-item::before {content: \"\";position: absolute;border-left: 1px solid gray;box-sizing: border-box;top: 0;bottom: 0;left: 50%;z-index: -1;}#sk-container-id-1 div.sk-parallel-item {display: flex;flex-direction: column;z-index: 1;position: relative;background-color: white;}#sk-container-id-1 div.sk-parallel-item:first-child::after {align-self: flex-end;width: 50%;}#sk-container-id-1 div.sk-parallel-item:last-child::after {align-self: flex-start;width: 50%;}#sk-container-id-1 div.sk-parallel-item:only-child::after {width: 0;}#sk-container-id-1 div.sk-dashed-wrapped {border: 1px dashed gray;margin: 0 0.4em 0.5em 0.4em;box-sizing: border-box;padding-bottom: 0.4em;background-color: white;}#sk-container-id-1 div.sk-label label {font-family: monospace;font-weight: bold;display: inline-block;line-height: 1.2em;}#sk-container-id-1 div.sk-label-container {text-align: center;}#sk-container-id-1 div.sk-container {/* jupyter's `normalize.less` sets `[hidden] { display: none; }` but bootstrap.min.css set `[hidden] { display: none !important; }` so we also need the `!important` here to be able to override the default hidden behavior on the sphinx rendered scikit-learn.org. See: https://github.com/scikit-learn/scikit-learn/issues/21755 */display: inline-block !important;position: relative;}#sk-container-id-1 div.sk-text-repr-fallback {display: none;}</style><div id=\"sk-container-id-1\" class=\"sk-top-container\"><div class=\"sk-text-repr-fallback\"><pre>LinearRegression()</pre><b>In a Jupyter environment, please rerun this cell to show the HTML representation or trust the notebook. <br />On GitHub, the HTML representation is unable to render, please try loading this page with nbviewer.org.</b></div><div class=\"sk-container\" hidden><div class=\"sk-item\"><div class=\"sk-estimator sk-toggleable\"><input class=\"sk-toggleable__control sk-hidden--visually\" id=\"sk-estimator-id-1\" type=\"checkbox\" checked><label for=\"sk-estimator-id-1\" class=\"sk-toggleable__label sk-toggleable__label-arrow\">LinearRegression</label><div class=\"sk-toggleable__content\"><pre>LinearRegression()</pre></div></div></div></div></div>"
      ],
      "text/plain": [
       "LinearRegression()"
      ]
     },
     "execution_count": 87,
     "metadata": {},
     "output_type": "execute_result"
    }
   ],
   "source": [
    "reg=LinearRegression()\n",
    "reg.fit(x_train, y_train)"
   ]
  },
  {
   "cell_type": "code",
   "execution_count": 88,
   "id": "fdab52df",
   "metadata": {},
   "outputs": [
    {
     "name": "stdout",
     "output_type": "stream",
     "text": [
      "Train R^2 :  0.46875092653580686\n"
     ]
    }
   ],
   "source": [
    "# R^2 : How much % of Variance can be explained  by this model/ variables\n",
    "print(\"Train R^2 : \", reg.score(x_train, y_train))"
   ]
  },
  {
   "cell_type": "code",
   "execution_count": 89,
   "id": "a26e3316",
   "metadata": {},
   "outputs": [
    {
     "name": "stdout",
     "output_type": "stream",
     "text": [
      "Test R^2 :  0.39311710488194607\n"
     ]
    }
   ],
   "source": [
    "print(\"Test R^2 : \", reg.score(x_test, y_test))"
   ]
  },
  {
   "cell_type": "code",
   "execution_count": 90,
   "id": "1de324e5",
   "metadata": {},
   "outputs": [
    {
     "data": {
      "text/plain": [
       "array([ 21.42674015, 100.78432154,  52.69053192,  53.17463863,\n",
       "        41.93839831,  60.77317234,  50.74602163,  10.53088854,\n",
       "        47.39648288,   2.05288276,  38.72819611,  27.59662326,\n",
       "        54.59619972,  32.98765837,  38.62009271,  54.83510553,\n",
       "        10.38217189,   9.16665989,  46.6395327 ,  73.88113766,\n",
       "        55.77512479,  69.80618435,  40.06863015,  13.72259778,\n",
       "       148.61100876,  24.24420597,  22.7522449 ,  44.23386473,\n",
       "        37.1274325 ,  20.62662742,  61.4821723 ,  33.35671235,\n",
       "        25.66667607,   6.9594705 ,  14.77670331,  70.70412204,\n",
       "        14.00466596,   5.70180082,  16.87798524,   7.67918171])"
      ]
     },
     "execution_count": 90,
     "metadata": {},
     "output_type": "execute_result"
    }
   ],
   "source": [
    "pred_test=np.expm1(reg.predict(x_test))\n",
    "pred_test"
   ]
  },
  {
   "cell_type": "code",
   "execution_count": 91,
   "id": "a6575f6d",
   "metadata": {},
   "outputs": [
    {
     "data": {
      "text/plain": [
       "array([72.74872833, 38.03121175, 24.22918445, 60.0581415 , 34.75959542,\n",
       "       57.31312598, 32.49189015, 22.76677381, 71.57670012, 44.41007582,\n",
       "        9.03731187, 35.49313806, 15.61772238, 38.01952999, 41.59270312,\n",
       "       83.48730365, 15.09541793, 12.41285937, 33.02482916, 73.72623917,\n",
       "       47.33028637, 25.66555668, 16.77840786, 32.06112171,  0.8657614 ,\n",
       "       31.34792833, 75.49798132, 60.77013259,  2.53345617, 35.10799162,\n",
       "       45.72742628, 49.53212846, 56.18785821, 39.28749471, 33.43744088,\n",
       "       43.77064345,  5.74602022, 51.03917174, 51.98236409, 19.34720251,\n",
       "       34.72792719, 42.08687212, 26.55846788, 10.17672328, 12.60312343,\n",
       "       51.27097446,  4.09438467, 86.69368248, 48.54578782, 26.21212198,\n",
       "       38.48649049, 30.22566877, 62.51713202, 25.32401291,  0.79320171,\n",
       "       58.43468904, 24.05007265, 61.62700402, 38.85033232, 68.27275794,\n",
       "       58.42299309, 42.35560509, 22.94537805, 28.07545781, 92.74972018,\n",
       "       30.64260592, 56.65048047, 30.22897813, 17.91624174, 57.93365828,\n",
       "       13.82373629, 46.76033876, 24.40393638,  9.98661146, 50.69611184,\n",
       "       28.91241073,  3.67634044, 23.80203568, 25.18858358, 24.80392896,\n",
       "       80.28012084, 52.21047692, 23.6164299 , 52.21047692, 53.64685439,\n",
       "       58.10428783,  7.37429206, 32.00136847, 57.9174134 ,  8.38071537,\n",
       "       34.60244413, 26.46297673, 18.86126417,  2.05288276, 28.07647938,\n",
       "       48.16434165, 32.75205965, 14.21533193,  9.76663356, 18.03802712,\n",
       "       71.91945771, 30.62416177, 21.12936554, 26.33871466,  3.6929173 ,\n",
       "       42.01030358, 77.26789809, 36.7647236 , 15.43289137, 47.70802715,\n",
       "       25.98363136, 45.4109315 , 11.31727144, 27.69188475, 31.3640205 ,\n",
       "        8.26934525, 55.05449621])"
      ]
     },
     "execution_count": 91,
     "metadata": {},
     "output_type": "execute_result"
    }
   ],
   "source": [
    "pred_train=np.expm1(reg.predict(x_train))\n",
    "pred_train"
   ]
  },
  {
   "cell_type": "code",
   "execution_count": 92,
   "id": "e3e50384",
   "metadata": {},
   "outputs": [
    {
     "data": {
      "text/plain": [
       "27     107.995\n",
       "110     80.255\n",
       "80      42.541\n",
       "89      81.174\n",
       "18      14.785\n",
       "        ...   \n",
       "9       17.527\n",
       "103     79.853\n",
       "67      55.557\n",
       "117      1.872\n",
       "47     113.369\n",
       "Name: log_Sale, Length: 117, dtype: float64"
      ]
     },
     "execution_count": 92,
     "metadata": {},
     "output_type": "execute_result"
    }
   ],
   "source": [
    "y_train=np.expm1(y_train)\n",
    "y_train"
   ]
  },
  {
   "cell_type": "code",
   "execution_count": 93,
   "id": "15f87e53",
   "metadata": {},
   "outputs": [],
   "source": [
    "y_test=np.expm1(y_test)"
   ]
  },
  {
   "cell_type": "code",
   "execution_count": 94,
   "id": "2610d333",
   "metadata": {},
   "outputs": [
    {
     "name": "stdout",
     "output_type": "stream",
     "text": [
      "Train MSE 2758.395779268048\n",
      "Train rmse 52.520432017149744\n",
      "Train MAE 30.420332022595375\n",
      "Train MAPE 2.1945813334473683\n"
     ]
    }
   ],
   "source": [
    "print(\"Train MSE\", np.mean((pred_train-y_train)**(2)))\n",
    "print(\"Train rmse\", np.sqrt(np.mean((pred_train-y_train)**(2))))\n",
    "print(\"Train MAE\",  np.mean(np.abs(pred_train-y_train)))\n",
    "print(\"Train MAPE\",  np.mean(np.abs((pred_train-y_train)/y_train)))"
   ]
  },
  {
   "cell_type": "code",
   "execution_count": 95,
   "id": "b1977ca6",
   "metadata": {},
   "outputs": [
    {
     "name": "stdout",
     "output_type": "stream",
     "text": [
      "Test MSE 2476.872368615722\n",
      "Test rmse 49.76818631028985\n",
      "Test MAE 30.65809067701038\n",
      "Test MAPE 1.7871623427878878\n"
     ]
    }
   ],
   "source": [
    "print(\"Test MSE\", np.mean((pred_test-y_test)**(2)))\n",
    "print(\"Test rmse\", np.sqrt(np.mean((pred_test-y_test)**(2))))\n",
    "print(\"Test MAE\",  np.mean(np.abs(pred_test-y_test)))\n",
    "print(\"Test MAPE\",  np.mean(np.abs((pred_test-y_test)/y_test)))"
   ]
  },
  {
   "cell_type": "code",
   "execution_count": null,
   "id": "417cb8a3",
   "metadata": {},
   "outputs": [],
   "source": []
  },
  {
   "cell_type": "code",
   "execution_count": null,
   "id": "2df656ad",
   "metadata": {},
   "outputs": [],
   "source": []
  }
 ],
 "metadata": {
  "kernelspec": {
   "display_name": "Python 3 (ipykernel)",
   "language": "python",
   "name": "python3"
  },
  "language_info": {
   "codemirror_mode": {
    "name": "ipython",
    "version": 3
   },
   "file_extension": ".py",
   "mimetype": "text/x-python",
   "name": "python",
   "nbconvert_exporter": "python",
   "pygments_lexer": "ipython3",
   "version": "3.9.12"
  }
 },
 "nbformat": 4,
 "nbformat_minor": 5
}
